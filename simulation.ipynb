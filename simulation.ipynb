{
 "cells": [
  {
   "cell_type": "markdown",
   "id": "b90d3511",
   "metadata": {},
   "source": [
    "1. How likely is it that you roll doubles when rolling two dice?"
   ]
  },
  {
   "cell_type": "code",
   "execution_count": 1,
   "id": "a0618bfb",
   "metadata": {},
   "outputs": [
    {
     "data": {
      "text/plain": [
       "0.1687"
      ]
     },
     "execution_count": 1,
     "metadata": {},
     "output_type": "execute_result"
    }
   ],
   "source": [
    "import numpy as np\n",
    "import pandas as pd\n",
    "\n",
    "outcomes = [1, 2, 3, 4, 5, 6]\n",
    "n_simulations = 10_000\n",
    "n_dice = 2\n",
    "\n",
    "\n",
    "die1 = np.random.choice(outcomes, size=n_simulations)\n",
    "die2 = np.random.choice(outcomes, size=n_simulations)\n",
    "\n",
    "(die1 == die2).mean()"
   ]
  },
  {
   "cell_type": "markdown",
   "id": "56c3b224",
   "metadata": {},
   "source": [
    "2. If you flip 8 coins, what is the probability of getting exactly 3 heads? What is the probability of getting more than 3 heads?"
   ]
  },
  {
   "cell_type": "code",
   "execution_count": 2,
   "id": "c8ef1711",
   "metadata": {},
   "outputs": [
    {
     "data": {
      "text/plain": [
       "0.2181"
      ]
     },
     "execution_count": 2,
     "metadata": {},
     "output_type": "execute_result"
    }
   ],
   "source": [
    "results = np.random.choice((0,1), size=(1_000_000, 8))\n",
    "(results.sum(axis=1) == 3).mean()"
   ]
  },
  {
   "cell_type": "code",
   "execution_count": 3,
   "id": "d45c8d99",
   "metadata": {},
   "outputs": [
    {
     "data": {
      "text/plain": [
       "0.637077"
      ]
     },
     "execution_count": 3,
     "metadata": {},
     "output_type": "execute_result"
    }
   ],
   "source": [
    "(results.sum(axis=1) > 3).mean()"
   ]
  },
  {
   "cell_type": "markdown",
   "id": "b3d422f2",
   "metadata": {},
   "source": [
    "3. There are approximitely 3 web development cohorts for every 1 data science cohort at Codeup. Assuming that Codeup randomly selects an alumni to put on a billboard, what are the odds that the two billboards I drive past both have data science students on them?"
   ]
  },
  {
   "cell_type": "code",
   "execution_count": 4,
   "id": "a9d7302a",
   "metadata": {},
   "outputs": [
    {
     "data": {
      "text/plain": [
       "0.062326"
      ]
     },
     "execution_count": 4,
     "metadata": {},
     "output_type": "execute_result"
    }
   ],
   "source": [
    "billboards = np.random.choice((0,1), size = (1_000_000, 2), p=(.75, .25))\n",
    "(billboards.sum(axis=1) == 2).mean()\n",
    "# In this scenario 0 is web dev and 1 is data science. Because the ratio is 3 to 1, I've added the p variable giving each the appropriate weight. \n"
   ]
  },
  {
   "cell_type": "code",
   "execution_count": 5,
   "id": "8d2c452e",
   "metadata": {},
   "outputs": [
    {
     "data": {
      "text/plain": [
       "0.0625"
      ]
     },
     "execution_count": 5,
     "metadata": {},
     "output_type": "execute_result"
    }
   ],
   "source": [
    "1/16"
   ]
  },
  {
   "cell_type": "markdown",
   "id": "398e8f93",
   "metadata": {},
   "source": [
    "4. Codeup students buy, on average, 3 poptart packages (+- 1.5) a day from the snack vending machine. If on monday the machine is restocked with 17 poptart packages, how likely is it that I will be able to buy some poptarts on Friday afternoon? (Remember, if you have mean and standard deviation, use the np.random.normal)"
   ]
  },
  {
   "cell_type": "code",
   "execution_count": 6,
   "id": "02179510",
   "metadata": {},
   "outputs": [
    {
     "data": {
      "text/plain": [
       "0.755"
      ]
     },
     "execution_count": 6,
     "metadata": {},
     "output_type": "execute_result"
    }
   ],
   "source": [
    "s = np.random.normal(3, 1.5, size=(1000, 5))\n",
    "(s.sum(axis=1) < 17).mean()"
   ]
  },
  {
   "cell_type": "markdown",
   "id": "2a23266e",
   "metadata": {},
   "source": [
    "5. Compare Heights\n",
    "\n",
    "- Men have an average height of 178 cm and standard deviation of 8cm.\n",
    "- Women have a mean of 170, sd = 6cm.\n",
    "- Since you have means and standard deviations, you can use np.random.normal to generate observations.\n",
    "- If a man and woman are chosen at random, P(woman taller than man)?"
   ]
  },
  {
   "cell_type": "code",
   "execution_count": 7,
   "id": "1c5b74ab",
   "metadata": {},
   "outputs": [
    {
     "data": {
      "text/html": [
       "<div>\n",
       "<style scoped>\n",
       "    .dataframe tbody tr th:only-of-type {\n",
       "        vertical-align: middle;\n",
       "    }\n",
       "\n",
       "    .dataframe tbody tr th {\n",
       "        vertical-align: top;\n",
       "    }\n",
       "\n",
       "    .dataframe thead th {\n",
       "        text-align: right;\n",
       "    }\n",
       "</style>\n",
       "<table border=\"1\" class=\"dataframe\">\n",
       "  <thead>\n",
       "    <tr style=\"text-align: right;\">\n",
       "      <th></th>\n",
       "      <th>men</th>\n",
       "      <th>women</th>\n",
       "    </tr>\n",
       "  </thead>\n",
       "  <tbody>\n",
       "    <tr>\n",
       "      <th>0</th>\n",
       "      <td>180.196121</td>\n",
       "      <td>170.273367</td>\n",
       "    </tr>\n",
       "    <tr>\n",
       "      <th>1</th>\n",
       "      <td>181.901180</td>\n",
       "      <td>182.357205</td>\n",
       "    </tr>\n",
       "    <tr>\n",
       "      <th>2</th>\n",
       "      <td>156.708740</td>\n",
       "      <td>162.340342</td>\n",
       "    </tr>\n",
       "    <tr>\n",
       "      <th>3</th>\n",
       "      <td>185.706764</td>\n",
       "      <td>171.040041</td>\n",
       "    </tr>\n",
       "    <tr>\n",
       "      <th>4</th>\n",
       "      <td>170.204443</td>\n",
       "      <td>168.014717</td>\n",
       "    </tr>\n",
       "    <tr>\n",
       "      <th>...</th>\n",
       "      <td>...</td>\n",
       "      <td>...</td>\n",
       "    </tr>\n",
       "    <tr>\n",
       "      <th>995</th>\n",
       "      <td>178.889325</td>\n",
       "      <td>168.104911</td>\n",
       "    </tr>\n",
       "    <tr>\n",
       "      <th>996</th>\n",
       "      <td>176.635747</td>\n",
       "      <td>162.442415</td>\n",
       "    </tr>\n",
       "    <tr>\n",
       "      <th>997</th>\n",
       "      <td>172.504299</td>\n",
       "      <td>172.202889</td>\n",
       "    </tr>\n",
       "    <tr>\n",
       "      <th>998</th>\n",
       "      <td>173.117184</td>\n",
       "      <td>164.132550</td>\n",
       "    </tr>\n",
       "    <tr>\n",
       "      <th>999</th>\n",
       "      <td>182.249513</td>\n",
       "      <td>155.758414</td>\n",
       "    </tr>\n",
       "  </tbody>\n",
       "</table>\n",
       "<p>1000 rows × 2 columns</p>\n",
       "</div>"
      ],
      "text/plain": [
       "            men       women\n",
       "0    180.196121  170.273367\n",
       "1    181.901180  182.357205\n",
       "2    156.708740  162.340342\n",
       "3    185.706764  171.040041\n",
       "4    170.204443  168.014717\n",
       "..          ...         ...\n",
       "995  178.889325  168.104911\n",
       "996  176.635747  162.442415\n",
       "997  172.504299  172.202889\n",
       "998  173.117184  164.132550\n",
       "999  182.249513  155.758414\n",
       "\n",
       "[1000 rows x 2 columns]"
      ]
     },
     "execution_count": 7,
     "metadata": {},
     "output_type": "execute_result"
    }
   ],
   "source": [
    "men = np.random.normal(178, 8, size=(1000))\n",
    "women = np.random.normal(170, 6, size=(1000))\n",
    "\n",
    "df = pd.DataFrame()\n",
    "df['men'] = men\n",
    "df['women'] = women\n",
    "\n",
    "df\n",
    "\n"
   ]
  },
  {
   "cell_type": "code",
   "execution_count": 8,
   "id": "5a0bb0d1",
   "metadata": {},
   "outputs": [
    {
     "data": {
      "text/plain": [
       "0.194"
      ]
     },
     "execution_count": 8,
     "metadata": {},
     "output_type": "execute_result"
    }
   ],
   "source": [
    "(df.women > df.men).mean()"
   ]
  },
  {
   "cell_type": "markdown",
   "id": "ccedc7a0",
   "metadata": {},
   "source": [
    "6. When installing anaconda on a student's computer, there's a 1 in 250 chance that the download is corrupted and the installation fails. What are the odds that after having 50 students download anaconda, no one has an installation issue? 100 students?\n",
    "\n",
    "What is the probability that we observe an installation issue within the first 150 students that download anaconda?\n",
    "\n",
    "How likely is it that 450 students all download anaconda without an issue?"
   ]
  },
  {
   "cell_type": "code",
   "execution_count": 9,
   "id": "8bff326d",
   "metadata": {},
   "outputs": [
    {
     "data": {
      "text/plain": [
       "array([0, 0, 0, 0, 0, 0, 0, 0, 0, 0, 0, 0, 0, 0, 0, 0, 0, 0, 0, 0, 0, 0,\n",
       "       0, 0, 0, 0, 0, 0, 0, 0, 0, 0, 0, 0, 0, 0, 0, 0, 0, 0, 0, 0, 0, 0,\n",
       "       0, 0, 0, 0, 0, 0])"
      ]
     },
     "execution_count": 9,
     "metadata": {},
     "output_type": "execute_result"
    }
   ],
   "source": [
    "s = np.random.choice((0, 1), size=50, p=(249/250, 1/250))\n",
    "s"
   ]
  },
  {
   "cell_type": "code",
   "execution_count": 10,
   "id": "cae90df8",
   "metadata": {},
   "outputs": [
    {
     "data": {
      "text/plain": [
       "1.0"
      ]
     },
     "execution_count": 10,
     "metadata": {},
     "output_type": "execute_result"
    }
   ],
   "source": [
    "1 - s.mean()\n",
    "#Chances of 50 students downloading anaconda successfully"
   ]
  },
  {
   "cell_type": "code",
   "execution_count": 11,
   "id": "ea547e9b",
   "metadata": {},
   "outputs": [
    {
     "data": {
      "text/plain": [
       "1.0"
      ]
     },
     "execution_count": 11,
     "metadata": {},
     "output_type": "execute_result"
    }
   ],
   "source": [
    "s = np.random.choice((0, 1), size=100, p=(249/250, 1/250))\n",
    "1 - s.mean()\n",
    "#Chances of 100 students downloading anaconda successfully"
   ]
  },
  {
   "cell_type": "code",
   "execution_count": 12,
   "id": "59349713",
   "metadata": {},
   "outputs": [
    {
     "data": {
      "text/plain": [
       "0.006666666666666667"
      ]
     },
     "execution_count": 12,
     "metadata": {},
     "output_type": "execute_result"
    }
   ],
   "source": [
    "s = np.random.choice((0, 1), size=150, p=(249/250, 1/250))\n",
    "s.mean()\n",
    "#Chances of someone out of 150 students downloading anaconda unsuccessfully"
   ]
  },
  {
   "cell_type": "code",
   "execution_count": 13,
   "id": "6bf60b57",
   "metadata": {},
   "outputs": [
    {
     "data": {
      "text/plain": [
       "0.9933333333333333"
      ]
     },
     "execution_count": 13,
     "metadata": {},
     "output_type": "execute_result"
    }
   ],
   "source": [
    "s = np.random.choice((0, 1), size=450, p=(249/250, 1/250))\n",
    "1 - s.mean()\n",
    "#Chances of 450 students downloading anaconda successfully"
   ]
  },
  {
   "cell_type": "markdown",
   "id": "d6d91ca8",
   "metadata": {},
   "source": [
    "7. There's a 70% chance on any given day that there will be at least one food truck at Travis Park. However, you haven't seen a food truck there in 3 days. How unlikely is this?\n",
    "\n",
    "How likely is it that a food truck will show up sometime this week?"
   ]
  },
  {
   "cell_type": "code",
   "execution_count": 14,
   "id": "337fd1af",
   "metadata": {},
   "outputs": [
    {
     "data": {
      "text/plain": [
       "array([[0.15179351, 0.48343661, 0.04615948],\n",
       "       [0.08251811, 0.92748037, 0.32169666],\n",
       "       [0.80793174, 0.72498773, 0.65120774],\n",
       "       ...,\n",
       "       [0.44181032, 0.47972329, 0.09701093],\n",
       "       [0.20591351, 0.9877841 , 0.92891054],\n",
       "       [0.15339633, 0.78840905, 0.13026208]])"
      ]
     },
     "execution_count": 14,
     "metadata": {},
     "output_type": "execute_result"
    }
   ],
   "source": [
    "ft = .7\n",
    "days = 3\n",
    "n_rows = 10000\n",
    "\n",
    "data = np.random.random((n_rows, days))\n",
    "data"
   ]
  },
  {
   "cell_type": "code",
   "execution_count": 15,
   "id": "d8597511",
   "metadata": {},
   "outputs": [
    {
     "data": {
      "text/plain": [
       "array([[ True,  True,  True],\n",
       "       [ True, False,  True],\n",
       "       [False, False,  True],\n",
       "       ...,\n",
       "       [ True,  True,  True],\n",
       "       [ True, False, False],\n",
       "       [ True, False,  True]])"
      ]
     },
     "execution_count": 15,
     "metadata": {},
     "output_type": "execute_result"
    }
   ],
   "source": [
    "present = data < ft\n",
    "present"
   ]
  },
  {
   "cell_type": "code",
   "execution_count": 16,
   "id": "62e068a8",
   "metadata": {},
   "outputs": [
    {
     "data": {
      "text/plain": [
       "0.0249"
      ]
     },
     "execution_count": 16,
     "metadata": {},
     "output_type": "execute_result"
    }
   ],
   "source": [
    "(present.sum(axis=1) == 0).mean()"
   ]
  },
  {
   "cell_type": "code",
   "execution_count": 17,
   "id": "1dccdb86",
   "metadata": {},
   "outputs": [
    {
     "data": {
      "text/plain": [
       "0.9751"
      ]
     },
     "execution_count": 17,
     "metadata": {},
     "output_type": "execute_result"
    }
   ],
   "source": [
    "(present.sum(axis=1) > 0).mean()"
   ]
  },
  {
   "cell_type": "code",
   "execution_count": 18,
   "id": "9f333213",
   "metadata": {},
   "outputs": [
    {
     "data": {
      "text/plain": [
       "0.027"
      ]
     },
     "execution_count": 18,
     "metadata": {},
     "output_type": "execute_result"
    }
   ],
   "source": [
    ".3*.3*.3"
   ]
  },
  {
   "cell_type": "code",
   "execution_count": 19,
   "id": "d44388a5",
   "metadata": {},
   "outputs": [
    {
     "data": {
      "text/plain": [
       "0.00021869999999999995"
      ]
     },
     "execution_count": 19,
     "metadata": {},
     "output_type": "execute_result"
    }
   ],
   "source": [
    ".3**7"
   ]
  },
  {
   "cell_type": "code",
   "execution_count": 20,
   "id": "d7f3e8c3",
   "metadata": {},
   "outputs": [
    {
     "data": {
      "text/plain": [
       "1.0"
      ]
     },
     "execution_count": 20,
     "metadata": {},
     "output_type": "execute_result"
    }
   ],
   "source": [
    "data = np.random.random((n_rows, 7))\n",
    "present = data < ft\n",
    "(present.sum(axis=1) > 0).mean()"
   ]
  },
  {
   "cell_type": "markdown",
   "id": "3963ea2f",
   "metadata": {},
   "source": [
    "8. If 23 people are in the same room, what are the odds that two of them share a birthday? What if it's 20 people? 40?"
   ]
  },
  {
   "cell_type": "code",
   "execution_count": 42,
   "id": "7f19b3b7",
   "metadata": {},
   "outputs": [
    {
     "data": {
      "text/html": [
       "<div>\n",
       "<style scoped>\n",
       "    .dataframe tbody tr th:only-of-type {\n",
       "        vertical-align: middle;\n",
       "    }\n",
       "\n",
       "    .dataframe tbody tr th {\n",
       "        vertical-align: top;\n",
       "    }\n",
       "\n",
       "    .dataframe thead th {\n",
       "        text-align: right;\n",
       "    }\n",
       "</style>\n",
       "<table border=\"1\" class=\"dataframe\">\n",
       "  <thead>\n",
       "    <tr style=\"text-align: right;\">\n",
       "      <th></th>\n",
       "      <th>0</th>\n",
       "      <th>1</th>\n",
       "      <th>2</th>\n",
       "      <th>3</th>\n",
       "      <th>4</th>\n",
       "      <th>5</th>\n",
       "      <th>6</th>\n",
       "      <th>7</th>\n",
       "      <th>8</th>\n",
       "      <th>9</th>\n",
       "      <th>...</th>\n",
       "      <th>13</th>\n",
       "      <th>14</th>\n",
       "      <th>15</th>\n",
       "      <th>16</th>\n",
       "      <th>17</th>\n",
       "      <th>18</th>\n",
       "      <th>19</th>\n",
       "      <th>20</th>\n",
       "      <th>21</th>\n",
       "      <th>22</th>\n",
       "    </tr>\n",
       "  </thead>\n",
       "  <tbody>\n",
       "    <tr>\n",
       "      <th>0</th>\n",
       "      <td>26.0</td>\n",
       "      <td>356.0</td>\n",
       "      <td>94.0</td>\n",
       "      <td>279.0</td>\n",
       "      <td>330.0</td>\n",
       "      <td>362.0</td>\n",
       "      <td>300.0</td>\n",
       "      <td>307.0</td>\n",
       "      <td>253.0</td>\n",
       "      <td>130.0</td>\n",
       "      <td>...</td>\n",
       "      <td>281.0</td>\n",
       "      <td>328.0</td>\n",
       "      <td>262.0</td>\n",
       "      <td>300.0</td>\n",
       "      <td>126.0</td>\n",
       "      <td>301.0</td>\n",
       "      <td>323.0</td>\n",
       "      <td>192.0</td>\n",
       "      <td>185.0</td>\n",
       "      <td>328.0</td>\n",
       "    </tr>\n",
       "    <tr>\n",
       "      <th>1</th>\n",
       "      <td>316.0</td>\n",
       "      <td>312.0</td>\n",
       "      <td>233.0</td>\n",
       "      <td>183.0</td>\n",
       "      <td>177.0</td>\n",
       "      <td>37.0</td>\n",
       "      <td>140.0</td>\n",
       "      <td>294.0</td>\n",
       "      <td>102.0</td>\n",
       "      <td>227.0</td>\n",
       "      <td>...</td>\n",
       "      <td>188.0</td>\n",
       "      <td>346.0</td>\n",
       "      <td>129.0</td>\n",
       "      <td>10.0</td>\n",
       "      <td>12.0</td>\n",
       "      <td>24.0</td>\n",
       "      <td>165.0</td>\n",
       "      <td>106.0</td>\n",
       "      <td>348.0</td>\n",
       "      <td>72.0</td>\n",
       "    </tr>\n",
       "    <tr>\n",
       "      <th>2</th>\n",
       "      <td>340.0</td>\n",
       "      <td>183.0</td>\n",
       "      <td>26.0</td>\n",
       "      <td>178.0</td>\n",
       "      <td>174.0</td>\n",
       "      <td>288.0</td>\n",
       "      <td>54.0</td>\n",
       "      <td>332.0</td>\n",
       "      <td>138.0</td>\n",
       "      <td>332.0</td>\n",
       "      <td>...</td>\n",
       "      <td>96.0</td>\n",
       "      <td>234.0</td>\n",
       "      <td>224.0</td>\n",
       "      <td>256.0</td>\n",
       "      <td>202.0</td>\n",
       "      <td>204.0</td>\n",
       "      <td>227.0</td>\n",
       "      <td>280.0</td>\n",
       "      <td>58.0</td>\n",
       "      <td>172.0</td>\n",
       "    </tr>\n",
       "    <tr>\n",
       "      <th>3</th>\n",
       "      <td>327.0</td>\n",
       "      <td>190.0</td>\n",
       "      <td>70.0</td>\n",
       "      <td>246.0</td>\n",
       "      <td>176.0</td>\n",
       "      <td>115.0</td>\n",
       "      <td>279.0</td>\n",
       "      <td>175.0</td>\n",
       "      <td>353.0</td>\n",
       "      <td>70.0</td>\n",
       "      <td>...</td>\n",
       "      <td>149.0</td>\n",
       "      <td>151.0</td>\n",
       "      <td>17.0</td>\n",
       "      <td>173.0</td>\n",
       "      <td>271.0</td>\n",
       "      <td>347.0</td>\n",
       "      <td>303.0</td>\n",
       "      <td>62.0</td>\n",
       "      <td>249.0</td>\n",
       "      <td>278.0</td>\n",
       "    </tr>\n",
       "    <tr>\n",
       "      <th>4</th>\n",
       "      <td>226.0</td>\n",
       "      <td>102.0</td>\n",
       "      <td>174.0</td>\n",
       "      <td>96.0</td>\n",
       "      <td>156.0</td>\n",
       "      <td>90.0</td>\n",
       "      <td>28.0</td>\n",
       "      <td>78.0</td>\n",
       "      <td>165.0</td>\n",
       "      <td>232.0</td>\n",
       "      <td>...</td>\n",
       "      <td>160.0</td>\n",
       "      <td>149.0</td>\n",
       "      <td>329.0</td>\n",
       "      <td>339.0</td>\n",
       "      <td>158.0</td>\n",
       "      <td>130.0</td>\n",
       "      <td>246.0</td>\n",
       "      <td>355.0</td>\n",
       "      <td>278.0</td>\n",
       "      <td>255.0</td>\n",
       "    </tr>\n",
       "    <tr>\n",
       "      <th>...</th>\n",
       "      <td>...</td>\n",
       "      <td>...</td>\n",
       "      <td>...</td>\n",
       "      <td>...</td>\n",
       "      <td>...</td>\n",
       "      <td>...</td>\n",
       "      <td>...</td>\n",
       "      <td>...</td>\n",
       "      <td>...</td>\n",
       "      <td>...</td>\n",
       "      <td>...</td>\n",
       "      <td>...</td>\n",
       "      <td>...</td>\n",
       "      <td>...</td>\n",
       "      <td>...</td>\n",
       "      <td>...</td>\n",
       "      <td>...</td>\n",
       "      <td>...</td>\n",
       "      <td>...</td>\n",
       "      <td>...</td>\n",
       "      <td>...</td>\n",
       "    </tr>\n",
       "    <tr>\n",
       "      <th>9995</th>\n",
       "      <td>343.0</td>\n",
       "      <td>201.0</td>\n",
       "      <td>74.0</td>\n",
       "      <td>316.0</td>\n",
       "      <td>258.0</td>\n",
       "      <td>332.0</td>\n",
       "      <td>234.0</td>\n",
       "      <td>215.0</td>\n",
       "      <td>244.0</td>\n",
       "      <td>356.0</td>\n",
       "      <td>...</td>\n",
       "      <td>193.0</td>\n",
       "      <td>105.0</td>\n",
       "      <td>119.0</td>\n",
       "      <td>200.0</td>\n",
       "      <td>169.0</td>\n",
       "      <td>353.0</td>\n",
       "      <td>83.0</td>\n",
       "      <td>287.0</td>\n",
       "      <td>174.0</td>\n",
       "      <td>176.0</td>\n",
       "    </tr>\n",
       "    <tr>\n",
       "      <th>9996</th>\n",
       "      <td>129.0</td>\n",
       "      <td>194.0</td>\n",
       "      <td>330.0</td>\n",
       "      <td>147.0</td>\n",
       "      <td>174.0</td>\n",
       "      <td>89.0</td>\n",
       "      <td>234.0</td>\n",
       "      <td>106.0</td>\n",
       "      <td>94.0</td>\n",
       "      <td>141.0</td>\n",
       "      <td>...</td>\n",
       "      <td>40.0</td>\n",
       "      <td>169.0</td>\n",
       "      <td>340.0</td>\n",
       "      <td>284.0</td>\n",
       "      <td>50.0</td>\n",
       "      <td>95.0</td>\n",
       "      <td>178.0</td>\n",
       "      <td>115.0</td>\n",
       "      <td>95.0</td>\n",
       "      <td>122.0</td>\n",
       "    </tr>\n",
       "    <tr>\n",
       "      <th>9997</th>\n",
       "      <td>361.0</td>\n",
       "      <td>240.0</td>\n",
       "      <td>154.0</td>\n",
       "      <td>268.0</td>\n",
       "      <td>243.0</td>\n",
       "      <td>346.0</td>\n",
       "      <td>245.0</td>\n",
       "      <td>45.0</td>\n",
       "      <td>100.0</td>\n",
       "      <td>7.0</td>\n",
       "      <td>...</td>\n",
       "      <td>308.0</td>\n",
       "      <td>331.0</td>\n",
       "      <td>238.0</td>\n",
       "      <td>134.0</td>\n",
       "      <td>53.0</td>\n",
       "      <td>214.0</td>\n",
       "      <td>155.0</td>\n",
       "      <td>20.0</td>\n",
       "      <td>258.0</td>\n",
       "      <td>124.0</td>\n",
       "    </tr>\n",
       "    <tr>\n",
       "      <th>9998</th>\n",
       "      <td>230.0</td>\n",
       "      <td>157.0</td>\n",
       "      <td>27.0</td>\n",
       "      <td>191.0</td>\n",
       "      <td>247.0</td>\n",
       "      <td>95.0</td>\n",
       "      <td>179.0</td>\n",
       "      <td>266.0</td>\n",
       "      <td>245.0</td>\n",
       "      <td>319.0</td>\n",
       "      <td>...</td>\n",
       "      <td>306.0</td>\n",
       "      <td>295.0</td>\n",
       "      <td>217.0</td>\n",
       "      <td>106.0</td>\n",
       "      <td>178.0</td>\n",
       "      <td>107.0</td>\n",
       "      <td>174.0</td>\n",
       "      <td>43.0</td>\n",
       "      <td>151.0</td>\n",
       "      <td>263.0</td>\n",
       "    </tr>\n",
       "    <tr>\n",
       "      <th>9999</th>\n",
       "      <td>343.0</td>\n",
       "      <td>60.0</td>\n",
       "      <td>193.0</td>\n",
       "      <td>210.0</td>\n",
       "      <td>348.0</td>\n",
       "      <td>164.0</td>\n",
       "      <td>60.0</td>\n",
       "      <td>312.0</td>\n",
       "      <td>98.0</td>\n",
       "      <td>175.0</td>\n",
       "      <td>...</td>\n",
       "      <td>118.0</td>\n",
       "      <td>164.0</td>\n",
       "      <td>251.0</td>\n",
       "      <td>182.0</td>\n",
       "      <td>128.0</td>\n",
       "      <td>309.0</td>\n",
       "      <td>155.0</td>\n",
       "      <td>7.0</td>\n",
       "      <td>174.0</td>\n",
       "      <td>349.0</td>\n",
       "    </tr>\n",
       "  </tbody>\n",
       "</table>\n",
       "<p>10000 rows × 23 columns</p>\n",
       "</div>"
      ],
      "text/plain": [
       "         0      1      2      3      4      5      6      7      8      9   \\\n",
       "0      26.0  356.0   94.0  279.0  330.0  362.0  300.0  307.0  253.0  130.0   \n",
       "1     316.0  312.0  233.0  183.0  177.0   37.0  140.0  294.0  102.0  227.0   \n",
       "2     340.0  183.0   26.0  178.0  174.0  288.0   54.0  332.0  138.0  332.0   \n",
       "3     327.0  190.0   70.0  246.0  176.0  115.0  279.0  175.0  353.0   70.0   \n",
       "4     226.0  102.0  174.0   96.0  156.0   90.0   28.0   78.0  165.0  232.0   \n",
       "...     ...    ...    ...    ...    ...    ...    ...    ...    ...    ...   \n",
       "9995  343.0  201.0   74.0  316.0  258.0  332.0  234.0  215.0  244.0  356.0   \n",
       "9996  129.0  194.0  330.0  147.0  174.0   89.0  234.0  106.0   94.0  141.0   \n",
       "9997  361.0  240.0  154.0  268.0  243.0  346.0  245.0   45.0  100.0    7.0   \n",
       "9998  230.0  157.0   27.0  191.0  247.0   95.0  179.0  266.0  245.0  319.0   \n",
       "9999  343.0   60.0  193.0  210.0  348.0  164.0   60.0  312.0   98.0  175.0   \n",
       "\n",
       "      ...     13     14     15     16     17     18     19     20     21  \\\n",
       "0     ...  281.0  328.0  262.0  300.0  126.0  301.0  323.0  192.0  185.0   \n",
       "1     ...  188.0  346.0  129.0   10.0   12.0   24.0  165.0  106.0  348.0   \n",
       "2     ...   96.0  234.0  224.0  256.0  202.0  204.0  227.0  280.0   58.0   \n",
       "3     ...  149.0  151.0   17.0  173.0  271.0  347.0  303.0   62.0  249.0   \n",
       "4     ...  160.0  149.0  329.0  339.0  158.0  130.0  246.0  355.0  278.0   \n",
       "...   ...    ...    ...    ...    ...    ...    ...    ...    ...    ...   \n",
       "9995  ...  193.0  105.0  119.0  200.0  169.0  353.0   83.0  287.0  174.0   \n",
       "9996  ...   40.0  169.0  340.0  284.0   50.0   95.0  178.0  115.0   95.0   \n",
       "9997  ...  308.0  331.0  238.0  134.0   53.0  214.0  155.0   20.0  258.0   \n",
       "9998  ...  306.0  295.0  217.0  106.0  178.0  107.0  174.0   43.0  151.0   \n",
       "9999  ...  118.0  164.0  251.0  182.0  128.0  309.0  155.0    7.0  174.0   \n",
       "\n",
       "         22  \n",
       "0     328.0  \n",
       "1      72.0  \n",
       "2     172.0  \n",
       "3     278.0  \n",
       "4     255.0  \n",
       "...     ...  \n",
       "9995  176.0  \n",
       "9996  122.0  \n",
       "9997  124.0  \n",
       "9998  263.0  \n",
       "9999  349.0  \n",
       "\n",
       "[10000 rows x 23 columns]"
      ]
     },
     "execution_count": 42,
     "metadata": {},
     "output_type": "execute_result"
    }
   ],
   "source": [
    "data = np.random.uniform(1, 365, size=(10000, 23))\n",
    "df = pd.DataFrame(data)\n",
    "sample = df.round(0)\n",
    "sample\n"
   ]
  },
  {
   "cell_type": "code",
   "execution_count": 43,
   "id": "d67efbcb",
   "metadata": {},
   "outputs": [
    {
     "data": {
      "text/plain": [
       "0       False\n",
       "1        True\n",
       "2       False\n",
       "3       False\n",
       "4        True\n",
       "        ...  \n",
       "9995     True\n",
       "9996    False\n",
       "9997     True\n",
       "9998    False\n",
       "9999    False\n",
       "Length: 10000, dtype: bool"
      ]
     },
     "execution_count": 43,
     "metadata": {},
     "output_type": "execute_result"
    }
   ],
   "source": [
    "no_one = sample.apply(lambda row: row.is_unique, axis=1)\n",
    "no_one"
   ]
  },
  {
   "cell_type": "code",
   "execution_count": 44,
   "id": "25f45e55",
   "metadata": {},
   "outputs": [
    {
     "data": {
      "text/plain": [
       "0.5032"
      ]
     },
     "execution_count": 44,
     "metadata": {},
     "output_type": "execute_result"
    }
   ],
   "source": [
    "1-no_one.mean()"
   ]
  },
  {
   "cell_type": "markdown",
   "id": "cca69206",
   "metadata": {},
   "source": [
    "Question 8 example given"
   ]
  },
  {
   "cell_type": "code",
   "execution_count": null,
   "id": "6cc00e04",
   "metadata": {},
   "outputs": [],
   "source": [
    "nrows = 100000\n",
    "ncols = 23\n",
    "birthdays = np.random.choice([r for r in range(366)], nrows * ncols).reshape(nrows, ncols)"
   ]
  }
 ],
 "metadata": {
  "kernelspec": {
   "display_name": "Python 3",
   "language": "python",
   "name": "python3"
  },
  "language_info": {
   "codemirror_mode": {
    "name": "ipython",
    "version": 3
   },
   "file_extension": ".py",
   "mimetype": "text/x-python",
   "name": "python",
   "nbconvert_exporter": "python",
   "pygments_lexer": "ipython3",
   "version": "3.8.8"
  }
 },
 "nbformat": 4,
 "nbformat_minor": 5
}

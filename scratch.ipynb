{
 "cells": [
  {
   "cell_type": "code",
   "execution_count": 2,
   "id": "039f886e",
   "metadata": {},
   "outputs": [
    {
     "data": {
      "text/plain": [
       "0.1510752871021065"
      ]
     },
     "execution_count": 2,
     "metadata": {},
     "output_type": "execute_result"
    }
   ],
   "source": [
    "import matplotlib.pyplot as plt\n",
    "import numpy as np\n",
    "from scipy import stats\n",
    "\n",
    "1- stats.binom(618, .10).cdf(69)"
   ]
  },
  {
   "cell_type": "code",
   "execution_count": 3,
   "id": "a3f9f5bc",
   "metadata": {},
   "outputs": [
    {
     "data": {
      "text/plain": [
       "0.15107528710211096"
      ]
     },
     "execution_count": 3,
     "metadata": {},
     "output_type": "execute_result"
    }
   ],
   "source": [
    "stats.binom(618, .10).sf(69)"
   ]
  },
  {
   "cell_type": "code",
   "execution_count": 4,
   "id": "6e78f9a1",
   "metadata": {},
   "outputs": [
    {
     "data": {
      "text/plain": [
       "0.7475074624530771"
      ]
     },
     "execution_count": 4,
     "metadata": {},
     "output_type": "execute_result"
    }
   ],
   "source": [
    "stats.norm(40, 15).cdf(50)"
   ]
  },
  {
   "cell_type": "code",
   "execution_count": null,
   "id": "ba9e7bd9",
   "metadata": {},
   "outputs": [],
   "source": []
  }
 ],
 "metadata": {
  "kernelspec": {
   "display_name": "Python 3",
   "language": "python",
   "name": "python3"
  },
  "language_info": {
   "codemirror_mode": {
    "name": "ipython",
    "version": 3
   },
   "file_extension": ".py",
   "mimetype": "text/x-python",
   "name": "python",
   "nbconvert_exporter": "python",
   "pygments_lexer": "ipython3",
   "version": "3.8.8"
  }
 },
 "nbformat": 4,
 "nbformat_minor": 5
}

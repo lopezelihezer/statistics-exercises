{
 "cells": [
  {
   "cell_type": "markdown",
   "id": "a1b8c6b8",
   "metadata": {},
   "source": [
    "For each of the following questions, formulate a null and alternative hypothesis (be as specific as you can be), then give an example of what a true positive, true negative, type I and type II errors would look like. Note that some of the questions are intentionally phrased in a vague way. It is your job to reword these as more precise questions that could be tested."
   ]
  },
  {
   "cell_type": "markdown",
   "id": "0db118e0",
   "metadata": {},
   "source": [
    "- Has the network latency gone up since we switched internet service providers?\n"
   ]
  },
  {
   "cell_type": "code",
   "execution_count": 1,
   "id": "8c1a3125",
   "metadata": {},
   "outputs": [],
   "source": [
    "# null hypothesis = network latency has not changed since switching ISPs.\n",
    "# alternative hypothesis = network latency has increased or decreased since switching ISPs.\n",
    "\n",
    "# true positive = network latency has increased or decreased\n",
    "# true negative = network latency has no changed\n",
    "# type I error = rejecting the null hypothesis, but network latency has not changed after switching ISPs.\n",
    "# type II error = accept the null hypothesis, but network latency has changed since switching ISPs. "
   ]
  },
  {
   "cell_type": "markdown",
   "id": "324f7af1",
   "metadata": {},
   "source": [
    "- Is the website redesign any good?\n"
   ]
  },
  {
   "cell_type": "code",
   "execution_count": 2,
   "id": "d69dea2d",
   "metadata": {},
   "outputs": [],
   "source": [
    "# null hypothesis = website redesign is not good\n",
    "# alternative hypothesis = website redesign is good\n",
    "\n",
    "# true positive = website redesign is good\n",
    "# true negative = website redesign is not good\n",
    "# type I error = reject the null hypothesis, but website redesign is not good\n",
    "# type II error = accept the null hypothesis, but website redesign is good"
   ]
  },
  {
   "cell_type": "markdown",
   "id": "e7b21959",
   "metadata": {},
   "source": [
    "- Is our television ad driving more sales?"
   ]
  },
  {
   "cell_type": "code",
   "execution_count": 3,
   "id": "a16de985",
   "metadata": {},
   "outputs": [],
   "source": [
    "# null hypothesis = there has been no change in sales since releasing a tv ad. \n",
    "# alternative hypothesis = sales have increased or decreased since releasing a tv ad. \n",
    "\n",
    "# true positive = there has been a change in sales since releasing the tv ad.\n",
    "# true negative = there has been no change in sales since releasing the tv ad. \n",
    "# type I error = there has been a change in sales, but the test does not support it. \n",
    "# type II error = there has been no changed in sales, but the test does not support it. "
   ]
  },
  {
   "cell_type": "markdown",
   "id": "4c16f2e6",
   "metadata": {},
   "source": [
    "# T-Test Exercises"
   ]
  },
  {
   "cell_type": "markdown",
   "id": "1f16c989",
   "metadata": {},
   "source": [
    "### Ace Realty wants to determine whether the average time it takes to sell homes is different for its two offices. A sample of 40 sales from office #1 revealed a mean of 90 days and a standard deviation of 15 days. A sample of 50 sales from office #2 revealed a mean of 100 days and a standard deviation of 20 days. Use a .05 level of significance."
   ]
  },
  {
   "cell_type": "code",
   "execution_count": 4,
   "id": "9b3982b9",
   "metadata": {},
   "outputs": [],
   "source": [
    "# Average time to sell homes different.\n",
    "# Office 1 mean = 90 days\n",
    "# Office 1 std = 15 days\n",
    "# Office 2 mean = 100 days\n",
    "# Office 2 sd = 20 days\n",
    "# alpha = 0.05"
   ]
  },
  {
   "cell_type": "code",
   "execution_count": 5,
   "id": "6363fba0",
   "metadata": {},
   "outputs": [],
   "source": [
    "# Question: Is there a difference in time it takes to sell a home between office 1 and 2?\n",
    "# H0 = Time it takes to sell a home is the same between office 1 and office 2.\n",
    "# HA = Time it takes to sell a home is differenct between office 1 and office 2. "
   ]
  },
  {
   "cell_type": "code",
   "execution_count": 6,
   "id": "b7b253c8",
   "metadata": {},
   "outputs": [],
   "source": [
    "import pandas as pd\n",
    "import matplotlib.pyplot as plt\n",
    "import scipy.stats as stats\n",
    "import seaborn as sns\n",
    "import numpy as np\n",
    "import statistics"
   ]
  },
  {
   "cell_type": "code",
   "execution_count": 7,
   "id": "fd6175ef",
   "metadata": {},
   "outputs": [],
   "source": [
    "Office1_mean = 90\n",
    "Office1_sd = 15\n",
    "Office2_mean = 100\n",
    "Office2_sd = 20\n",
    "alpha = 0.05"
   ]
  },
  {
   "cell_type": "code",
   "execution_count": 8,
   "id": "900052d3",
   "metadata": {},
   "outputs": [
    {
     "data": {
      "text/plain": [
       "array([110.57489539,  96.10948022,  76.76606372,  80.71514577,\n",
       "       124.4084643 ,  92.35443775,  97.50640018,  73.95148438,\n",
       "       105.62293592,  90.11476413, 118.15885015, 103.87244682,\n",
       "        62.93231803,  65.06654897,  92.26185826,  97.10888576,\n",
       "        87.90958763,  89.09390899,  96.65611325, 116.59875801,\n",
       "       101.16103351, 105.7127622 ,  98.92932468,  97.3770091 ,\n",
       "       101.62092548,  73.92005545, 106.82774719, 101.47253874,\n",
       "        83.80640092,  69.83038682,  69.78646598,  69.92144477,\n",
       "        96.80421221, 111.29021164,  56.25351982,  84.24937774,\n",
       "        60.88296844,  80.99624434,  51.01557066,  91.48687184])"
      ]
     },
     "execution_count": 8,
     "metadata": {},
     "output_type": "execute_result"
    }
   ],
   "source": [
    "Office1 = np.random.normal(Office1_mean, Office1_sd, 40)\n",
    "Office1"
   ]
  },
  {
   "cell_type": "code",
   "execution_count": 9,
   "id": "ecde2bdf",
   "metadata": {},
   "outputs": [
    {
     "data": {
      "text/plain": [
       "<function matplotlib.pyplot.show(close=None, block=None)>"
      ]
     },
     "execution_count": 9,
     "metadata": {},
     "output_type": "execute_result"
    },
    {
     "data": {
      "image/png": "[encoded data removed]",
      "text/plain": [
       "<Figure size 432x288 with 1 Axes>"
      ]
     },
     "metadata": {
      "needs_background": "light"
     },
     "output_type": "display_data"
    }
   ],
   "source": [
    "\n",
    "plt.hist(Office1, bins=10, edgecolor='black')\n",
    "plt.show"
   ]
  },
  {
   "cell_type": "code",
   "execution_count": 10,
   "id": "52cf9f1a",
   "metadata": {},
   "outputs": [
    {
     "data": {
      "text/plain": [
       "array([ 79.99679925, 100.60165665,  67.85415317,  81.07637496,\n",
       "       109.11688514, 127.40567725, 122.85551554,  68.1162076 ,\n",
       "       117.13378544, 117.08150345, 112.2676124 , 104.18673126,\n",
       "        58.50476396,  96.19810842,  89.8927641 ,  85.23751946,\n",
       "        70.14296318,  85.1054821 , 124.09422483,  94.54380548,\n",
       "        90.0323913 ,  94.57104681, 112.73634929,  94.14591082,\n",
       "       107.43449901, 105.01205227,  54.32025272,  95.6675737 ,\n",
       "       112.89560555, 109.49735725,  71.20257484, 100.13452457,\n",
       "       104.58363015,  80.77630448,  94.13010414,  90.17630682,\n",
       "        93.98015575,  78.19769716,  74.07219403, 124.62697821,\n",
       "        67.80034752,  94.38956414,  89.77577883,  43.63633182,\n",
       "        87.25097055,  63.4566858 ,  81.50872012,  98.67407058,\n",
       "        92.59821627,  72.59169437])"
      ]
     },
     "execution_count": 10,
     "metadata": {},
     "output_type": "execute_result"
    }
   ],
   "source": [
    "Office2 = np.random.normal(Office2_mean, Office2_sd, 50)\n",
    "Office2"
   ]
  },
  {
   "cell_type": "code",
   "execution_count": 11,
   "id": "6adeac63",
   "metadata": {},
   "outputs": [
    {
     "data": {
      "text/plain": [
       "<function matplotlib.pyplot.show(close=None, block=None)>"
      ]
     },
     "execution_count": 11,
     "metadata": {},
     "output_type": "execute_result"
    },
    {
     "data": {
      "image/png": "[encoded data removed]",
      "text/plain": [
       "<Figure size 432x288 with 1 Axes>"
      ]
     },
     "metadata": {
      "needs_background": "light"
     },
     "output_type": "display_data"
    }
   ],
   "source": [
    "plt.hist(Office2, bins=10, edgecolor='black')\n",
    "plt.show"
   ]
  },
  {
   "cell_type": "code",
   "execution_count": 12,
   "id": "f9179053",
   "metadata": {},
   "outputs": [
    {
     "data": {
      "text/plain": [
       "307.82760655603164"
      ]
     },
     "execution_count": 12,
     "metadata": {},
     "output_type": "execute_result"
    }
   ],
   "source": [
    "Office1.var()"
   ]
  },
  {
   "cell_type": "code",
   "execution_count": 13,
   "id": "d872d7c8",
   "metadata": {},
   "outputs": [
    {
     "data": {
      "text/plain": [
       "365.2725925737112"
      ]
     },
     "execution_count": 13,
     "metadata": {},
     "output_type": "execute_result"
    }
   ],
   "source": [
    "Office2.var()"
   ]
  },
  {
   "cell_type": "code",
   "execution_count": 14,
   "id": "0a2e43dd",
   "metadata": {},
   "outputs": [
    {
     "data": {
      "text/plain": [
       "(0.5226567470199943, 0.3012766970474122)"
      ]
     },
     "execution_count": 14,
     "metadata": {},
     "output_type": "execute_result"
    }
   ],
   "source": [
    "t, p = stats.ttest_ind(Office2, Office1, equal_var = False)\n",
    "t, p/2"
   ]
  },
  {
   "cell_type": "code",
   "execution_count": 15,
   "id": "6ab26047",
   "metadata": {},
   "outputs": [
    {
     "ename": "NameError",
     "evalue": "name 'scipy' is not defined",
     "output_type": "error",
     "traceback": [
      "\u001b[0;31m---------------------------------------------------------------------------\u001b[0m",
      "\u001b[0;31mNameError\u001b[0m                                 Traceback (most recent call last)",
      "\u001b[0;32m<ipython-input-15-12274738bc51>\u001b[0m in \u001b[0;36m<module>\u001b[0;34m\u001b[0m\n\u001b[0;32m----> 1\u001b[0;31m \u001b[0mscipy\u001b[0m\u001b[0;34m.\u001b[0m\u001b[0mstats\u001b[0m\u001b[0;34m.\u001b[0m\u001b[0mttest_ind_from_stats\u001b[0m\u001b[0;34m(\u001b[0m\u001b[0;34m)\u001b[0m\u001b[0;34m\u001b[0m\u001b[0;34m\u001b[0m\u001b[0m\n\u001b[0m",
      "\u001b[0;31mNameError\u001b[0m: name 'scipy' is not defined"
     ]
    }
   ],
   "source": [
    "scipy.stats.ttest_ind_from_stats()"
   ]
  },
  {
   "cell_type": "code",
   "execution_count": null,
   "id": "49853444",
   "metadata": {},
   "outputs": [],
   "source": [
    "print(\"is p/2 < alpha? \", p/2 < alpha)\n",
    "print(\"is t>0?\", t > 0)"
   ]
  },
  {
   "cell_type": "code",
   "execution_count": null,
   "id": "5ca4c641",
   "metadata": {},
   "outputs": [],
   "source": [
    "if p/2 > alpha:\n",
    "    print(\"We fail to reject $H_{0}$\")\n",
    "elif t < 0:\n",
    "    print(\"We fail to reject $H_{0}$\")\n",
    "else:\n",
    "    print(\"We reject $H_{0}$\")"
   ]
  },
  {
   "cell_type": "markdown",
   "id": "24ea985a",
   "metadata": {},
   "source": [
    "### Load the mpg dataset and use it to answer the following questions:"
   ]
  },
  {
   "cell_type": "code",
   "execution_count": null,
   "id": "985b849b",
   "metadata": {},
   "outputs": [],
   "source": [
    "from pydataset import data\n",
    "mpg = data('mpg')\n",
    "mpg.head()"
   ]
  },
  {
   "cell_type": "markdown",
   "id": "37aad1fa",
   "metadata": {},
   "source": [
    "- Is there a difference in fuel-efficiency in cars from 2008 vs 1999?"
   ]
  },
  {
   "cell_type": "code",
   "execution_count": null,
   "id": "6f3a280f",
   "metadata": {},
   "outputs": [],
   "source": [
    "mpg_08 = mpg[mpg.year == 2008]\n",
    "mpg_99 = mpg[mpg.year == 1999]\n",
    "mpg_08_fe = (mpg_08.cty + mpg_08.hwy)/2\n",
    "mpg_08_fe.mean()"
   ]
  },
  {
   "cell_type": "code",
   "execution_count": null,
   "id": "d92d44d9",
   "metadata": {},
   "outputs": [],
   "source": [
    "mpg_99_fe = (mpg_99.cty + mpg_99.hwy)/2\n",
    "mpg_99_fe.mean()"
   ]
  },
  {
   "cell_type": "code",
   "execution_count": null,
   "id": "4d4a631c",
   "metadata": {},
   "outputs": [],
   "source": [
    "plt.hist(mpg_08_fe, bins=10, edgecolor='black')\n",
    "plt.show"
   ]
  },
  {
   "cell_type": "code",
   "execution_count": null,
   "id": "f0c93538",
   "metadata": {},
   "outputs": [],
   "source": [
    "plt.hist(mpg_99_fe, bins=10, edgecolor='black')\n",
    "plt.show"
   ]
  },
  {
   "cell_type": "code",
   "execution_count": null,
   "id": "2d06231b",
   "metadata": {},
   "outputs": [],
   "source": [
    "mpg_08_fe.var()"
   ]
  },
  {
   "cell_type": "code",
   "execution_count": null,
   "id": "5cad8ed0",
   "metadata": {},
   "outputs": [],
   "source": [
    "mpg_99_fe.var()"
   ]
  },
  {
   "cell_type": "code",
   "execution_count": null,
   "id": "408d62cf",
   "metadata": {},
   "outputs": [],
   "source": [
    "t, p = stats.ttest_ind(mpg_08_fe, mpg_99_fe)\n",
    "t, p/2"
   ]
  },
  {
   "cell_type": "code",
   "execution_count": null,
   "id": "9db0ada4",
   "metadata": {},
   "outputs": [],
   "source": [
    "print(\"is p/2 < alpha? \", p/2 < alpha)\n",
    "print(\"is t>0?\", t > 0)"
   ]
  },
  {
   "cell_type": "code",
   "execution_count": null,
   "id": "6bec7810",
   "metadata": {},
   "outputs": [],
   "source": [
    "if p/2 > alpha:\n",
    "    print(\"We fail to reject $H_{0}$\")\n",
    "elif t < 0:\n",
    "    print(\"We fail to reject $H_{0}$\")\n",
    "else:\n",
    "    print(\"We reject $H_{0}$\")"
   ]
  },
  {
   "cell_type": "code",
   "execution_count": null,
   "id": "74828007",
   "metadata": {},
   "outputs": [],
   "source": []
  },
  {
   "cell_type": "code",
   "execution_count": null,
   "id": "102d8c11",
   "metadata": {},
   "outputs": [],
   "source": []
  },
  {
   "cell_type": "code",
   "execution_count": null,
   "id": "d86e2666",
   "metadata": {},
   "outputs": [],
   "source": []
  },
  {
   "cell_type": "markdown",
   "id": "62c883ae",
   "metadata": {},
   "source": [
    "- Are compact cars more fuel-efficient than the average car?"
   ]
  },
  {
   "cell_type": "markdown",
   "id": "d8acf0d9",
   "metadata": {},
   "source": [
    "- Do manual cars get better gas mileage than automatic cars?"
   ]
  },
  {
   "cell_type": "markdown",
   "id": "73edb0bc",
   "metadata": {},
   "source": [
    "# Correlation"
   ]
  },
  {
   "cell_type": "markdown",
   "id": "bbcdd9ce",
   "metadata": {},
   "source": [
    "## 1. Use the telco_churn data. Does tenure correlate with monthly charges? Total charges? What happens if you control for phone and internet service?"
   ]
  },
  {
   "cell_type": "code",
   "execution_count": null,
   "id": "376318af",
   "metadata": {},
   "outputs": [],
   "source": [
    "import pandas as pd\n",
    "import numpy as np\n",
    "import matplotlib.pyplot as plt\n",
    "import seaborn as sns\n",
    "\n",
    "from math import sqrt\n",
    "\n",
    "from scipy import stats\n",
    "from pydataset import data"
   ]
  },
  {
   "cell_type": "markdown",
   "id": "5e787501",
   "metadata": {},
   "source": [
    "### $H_{0}$ : tenure and monthly charges are not linearly correlated\n",
    "### $H_{a}$ : tenure and monthly charges are linearly correlated"
   ]
  },
  {
   "cell_type": "code",
   "execution_count": null,
   "id": "6c39f75f",
   "metadata": {},
   "outputs": [],
   "source": [
    "telco_churn = pd.read_csv(\"Cust_Churn_Telco.csv\")\n",
    "telco_churn.head()"
   ]
  },
  {
   "cell_type": "code",
   "execution_count": null,
   "id": "474a30f4",
   "metadata": {},
   "outputs": [],
   "source": [
    "x = telco_churn.tenure\n",
    "y = telco_churn.MonthlyCharges\n",
    "corr, p = stats.pearsonr(x, y)\n",
    "corr, p\n",
    "# p values is significantly less than alpha (0.05)\n",
    "# Since p is less than alpha, we reject our null hypothesis that tenure and monthly charges are not linearly correlated."
   ]
  },
  {
   "cell_type": "markdown",
   "id": "20a837e6",
   "metadata": {},
   "source": [
    "### H_0: tenure and total charges are not linearly correlated\n",
    "### H_A: tenure and total charges are linearly correlated"
   ]
  },
  {
   "cell_type": "code",
   "execution_count": null,
   "id": "fe7700aa",
   "metadata": {},
   "outputs": [],
   "source": [
    "x = telco_churn.tenure\n",
    "y = telco_churn.TotalCharges\n",
    "y = np.nan_to_num(y)\n",
    "y\n",
    "corr, p = stats.pearsonr(x, y)\n",
    "corr, p\n",
    "# p value is less than alpha\n",
    "# We reject our null that tenure and total charges are not linearly correlated. "
   ]
  },
  {
   "cell_type": "markdown",
   "id": "921a4746",
   "metadata": {},
   "source": [
    "## Control for phone and internet service"
   ]
  },
  {
   "cell_type": "code",
   "execution_count": null,
   "id": "1718eb0b",
   "metadata": {},
   "outputs": [],
   "source": []
  },
  {
   "cell_type": "markdown",
   "id": "28107fed",
   "metadata": {},
   "source": [
    "# 2. Use the employess database."
   ]
  },
  {
   "cell_type": "markdown",
   "id": "ffdf1caa",
   "metadata": {},
   "source": [
    "## - Is there a relationship between how long an employee has been with the company and their salary?"
   ]
  },
  {
   "cell_type": "code",
   "execution_count": null,
   "id": "b46e943a",
   "metadata": {},
   "outputs": [],
   "source": [
    "from env import host, user, password\n",
    "\n",
    "url = f'mysql+pymysql://{user}:{password}@{host}/employees'"
   ]
  },
  {
   "cell_type": "code",
   "execution_count": null,
   "id": "7291c8be",
   "metadata": {},
   "outputs": [],
   "source": [
    "\n",
    "sql = \"\"\"\n",
    "select datediff(curdate(), hire_date) as days_on_job, salary\n",
    "from employees\n",
    "join salaries using(emp_no)\n",
    "where to_date > curdate();\n",
    "\"\"\"\n",
    "\n",
    "employees = pd.read_sql(sql, url)\n",
    "employees.head()"
   ]
  },
  {
   "cell_type": "code",
   "execution_count": null,
   "id": "a30c5134",
   "metadata": {},
   "outputs": [],
   "source": [
    "\n",
    "sns.scatterplot(x=\"days_on_job\", y=\"salary\", data=employees)"
   ]
  },
  {
   "cell_type": "code",
   "execution_count": null,
   "id": "b09192dc",
   "metadata": {},
   "outputs": [],
   "source": [
    "corr, p = stats.pearsonr(employees.days_on_job, employees.salary)\n",
    "corr, p"
   ]
  },
  {
   "cell_type": "markdown",
   "id": "6fe5e6fa",
   "metadata": {},
   "source": [
    "## Is there a relationship between how long an employee has been with the company and the number of titles they have had?aa"
   ]
  },
  {
   "cell_type": "code",
   "execution_count": null,
   "id": "2f518d77",
   "metadata": {},
   "outputs": [],
   "source": [
    "\n",
    "sql = \"\"\"\n",
    "select emp_no, count(title) as title_count, datediff(curdate(), hire_date) as days_on_job\n",
    "from employees\n",
    "join titles using(emp_no)\n",
    "group by emp_no;\n",
    "\"\"\"\n",
    "\n",
    "\n",
    "employees_titles = pd.read_sql(sql, url)\n",
    "employees_titles.head()"
   ]
  },
  {
   "cell_type": "code",
   "execution_count": null,
   "id": "608370e3",
   "metadata": {},
   "outputs": [],
   "source": [
    "corr, p = stats.pearsonr(employees_titles.days_on_job, employees_titles.title_count)\n",
    "corr, p"
   ]
  },
  {
   "cell_type": "markdown",
   "id": "319f6b08",
   "metadata": {},
   "source": [
    "## Use the sleepstudy data. Is there a relationship between days and reaction time?"
   ]
  },
  {
   "cell_type": "code",
   "execution_count": 17,
   "id": "0fc5cffd",
   "metadata": {},
   "outputs": [
    {
     "data": {
      "text/html": [
       "<div>\n",
       "<style scoped>\n",
       "    .dataframe tbody tr th:only-of-type {\n",
       "        vertical-align: middle;\n",
       "    }\n",
       "\n",
       "    .dataframe tbody tr th {\n",
       "        vertical-align: top;\n",
       "    }\n",
       "\n",
       "    .dataframe thead th {\n",
       "        text-align: right;\n",
       "    }\n",
       "</style>\n",
       "<table border=\"1\" class=\"dataframe\">\n",
       "  <thead>\n",
       "    <tr style=\"text-align: right;\">\n",
       "      <th></th>\n",
       "      <th>Reaction</th>\n",
       "      <th>Days</th>\n",
       "      <th>Subject</th>\n",
       "    </tr>\n",
       "  </thead>\n",
       "  <tbody>\n",
       "    <tr>\n",
       "      <th>1</th>\n",
       "      <td>249.5600</td>\n",
       "      <td>0</td>\n",
       "      <td>308</td>\n",
       "    </tr>\n",
       "    <tr>\n",
       "      <th>2</th>\n",
       "      <td>258.7047</td>\n",
       "      <td>1</td>\n",
       "      <td>308</td>\n",
       "    </tr>\n",
       "    <tr>\n",
       "      <th>3</th>\n",
       "      <td>250.8006</td>\n",
       "      <td>2</td>\n",
       "      <td>308</td>\n",
       "    </tr>\n",
       "    <tr>\n",
       "      <th>4</th>\n",
       "      <td>321.4398</td>\n",
       "      <td>3</td>\n",
       "      <td>308</td>\n",
       "    </tr>\n",
       "    <tr>\n",
       "      <th>5</th>\n",
       "      <td>356.8519</td>\n",
       "      <td>4</td>\n",
       "      <td>308</td>\n",
       "    </tr>\n",
       "  </tbody>\n",
       "</table>\n",
       "</div>"
      ],
      "text/plain": [
       "   Reaction  Days  Subject\n",
       "1  249.5600     0      308\n",
       "2  258.7047     1      308\n",
       "3  250.8006     2      308\n",
       "4  321.4398     3      308\n",
       "5  356.8519     4      308"
      ]
     },
     "execution_count": 17,
     "metadata": {},
     "output_type": "execute_result"
    }
   ],
   "source": [
    "\n",
    "from pydataset import data\n",
    "sleepstudy = data(\"sleepstudy\")\n",
    "sleepstudy.head()"
   ]
  },
  {
   "cell_type": "code",
   "execution_count": 18,
   "id": "d8948745",
   "metadata": {},
   "outputs": [
    {
     "data": {
      "text/plain": [
       "<AxesSubplot:xlabel='Days', ylabel='Reaction'>"
      ]
     },
     "execution_count": 18,
     "metadata": {},
     "output_type": "execute_result"
    },
    {
     "data": {
      "image/png": "[encoded data removed]",
      "text/plain": [
       "<Figure size 432x288 with 1 Axes>"
      ]
     },
     "metadata": {
      "needs_background": "light"
     },
     "output_type": "display_data"
    }
   ],
   "source": [
    "sns.scatterplot(x=\"Days\", y=\"Reaction\", data=sleepstudy)"
   ]
  },
  {
   "cell_type": "code",
   "execution_count": 19,
   "id": "d9e6fb44",
   "metadata": {},
   "outputs": [
    {
     "data": {
      "text/plain": [
       "(0.5352302262650253, 9.894096322214812e-15)"
      ]
     },
     "execution_count": 19,
     "metadata": {},
     "output_type": "execute_result"
    }
   ],
   "source": [
    "corr, p = stats.pearsonr(sleepstudy.Days, sleepstudy.Reaction)\n",
    "corr, p"
   ]
  },
  {
   "cell_type": "markdown",
   "id": "c482cb6c",
   "metadata": {},
   "source": [
    "# Chi Square Exercises"
   ]
  },
  {
   "cell_type": "markdown",
   "id": "ef854db0",
   "metadata": {},
   "source": [
    "### Continue working in your hypothesis_testing notebook.\n",
    "\n",
    "### Use the following contingency table to help answer the question of whether using a macbook and being a codeup student are independent of each other."
   ]
  },
  {
   "cell_type": "markdown",
   "id": "dcf85c7c",
   "metadata": {},
   "source": [
    "Let us test the hypothesis that one group is independent of another\n",
    "- $H_0$ is always that there is no association between the groups (they are independent)\n",
    "- $H_a$ is that there is a association (they are not independent) between the groups"
   ]
  },
  {
   "cell_type": "code",
   "execution_count": 20,
   "id": "6f891c30",
   "metadata": {},
   "outputs": [
    {
     "name": "stdout",
     "output_type": "stream",
     "text": [
      "Observed\n",
      "                  codeup_student  not_codeup_student\n",
      "uses_mac                      49                  20\n",
      "does_not_use_mac               1                  30\n",
      "---\n",
      "Expected\n",
      "                  codeup_student  not_codeup_student\n",
      "uses_mac                    34.5                34.5\n",
      "does_not_use_mac            15.5                15.5\n",
      "---\n",
      "\n",
      "chi^2 = 39.3174\n",
      "p     = 0.0000\n"
     ]
    }
   ],
   "source": [
    "index = ['uses_mac', 'does_not_use_mac']\n",
    "columns = ['codeup_student', 'not_codeup_student']\n",
    "\n",
    "observed = pd.DataFrame([[49, 20], [1, 30]], index=index, columns=columns)\n",
    "n = observed.values.sum()\n",
    "\n",
    "expected = pd.DataFrame([[.345, .345], [.155, .155]], index=index, columns=columns) * n\n",
    "\n",
    "chi2 = ((observed - expected)**2 / expected).values.sum()\n",
    "\n",
    "nrows, ncols = observed.shape\n",
    "\n",
    "degrees_of_freedom = (nrows - 1) * (ncols - 1)\n",
    "\n",
    "p = stats.chi2(degrees_of_freedom).sf(chi2)\n",
    "\n",
    "print('Observed')\n",
    "print(observed)\n",
    "print('---\\nExpected')\n",
    "print(expected)\n",
    "print('---\\n')\n",
    "print(f'chi^2 = {chi2:.4f}')\n",
    "print(f'p     = {p:.4f}')"
   ]
  },
  {
   "cell_type": "code",
   "execution_count": 21,
   "id": "f9e2d429",
   "metadata": {},
   "outputs": [
    {
     "name": "stdout",
     "output_type": "stream",
     "text": [
      "Observed\n",
      "\n",
      "[[49 20]\n",
      " [ 1 30]]\n",
      "---\n",
      "Expected\n",
      "\n",
      "[[34.5 34.5]\n",
      " [15.5 15.5]]\n",
      "---\n",
      "\n",
      "chi^2 = 36.6526\n",
      "p     = 0.0000\n"
     ]
    }
   ],
   "source": [
    "chi2, p, degf, expected = stats.chi2_contingency(observed)\n",
    "\n",
    "print('Observed\\n')\n",
    "print(observed.values)\n",
    "print('---\\nExpected\\n')\n",
    "print(expected)\n",
    "print('---\\n')\n",
    "print(f'chi^2 = {chi2:.4f}')\n",
    "print(f'p     = {p:.4f}')"
   ]
  },
  {
   "cell_type": "markdown",
   "id": "b26a276a",
   "metadata": {},
   "source": [
    "### p < alpha, so we reject the null hypothesis that being a student and using a mac have no association (indepenedent)"
   ]
  },
  {
   "cell_type": "markdown",
   "id": "5fe9a6ce",
   "metadata": {},
   "source": [
    "## Choose another 2 categorical variables from the mpg dataset and perform a chi2 contingency table test with them. Be sure to state your null and alternative hypotheses."
   ]
  },
  {
   "cell_type": "markdown",
   "id": "0dcd56ef",
   "metadata": {},
   "source": [
    "- $H_0$ there is no association between transmission and class (they are independent)\n",
    "- $H_a$ there is an association (they are not independent) between transmission and class"
   ]
  },
  {
   "cell_type": "code",
   "execution_count": 24,
   "id": "090a2049",
   "metadata": {},
   "outputs": [
    {
     "data": {
      "text/html": [
       "<div>\n",
       "<style scoped>\n",
       "    .dataframe tbody tr th:only-of-type {\n",
       "        vertical-align: middle;\n",
       "    }\n",
       "\n",
       "    .dataframe tbody tr th {\n",
       "        vertical-align: top;\n",
       "    }\n",
       "\n",
       "    .dataframe thead th {\n",
       "        text-align: right;\n",
       "    }\n",
       "</style>\n",
       "<table border=\"1\" class=\"dataframe\">\n",
       "  <thead>\n",
       "    <tr style=\"text-align: right;\">\n",
       "      <th></th>\n",
       "      <th>manufacturer</th>\n",
       "      <th>model</th>\n",
       "      <th>displ</th>\n",
       "      <th>year</th>\n",
       "      <th>cyl</th>\n",
       "      <th>trans</th>\n",
       "      <th>drv</th>\n",
       "      <th>cty</th>\n",
       "      <th>hwy</th>\n",
       "      <th>fl</th>\n",
       "      <th>class</th>\n",
       "      <th>transmission</th>\n",
       "    </tr>\n",
       "  </thead>\n",
       "  <tbody>\n",
       "    <tr>\n",
       "      <th>1</th>\n",
       "      <td>audi</td>\n",
       "      <td>a4</td>\n",
       "      <td>1.8</td>\n",
       "      <td>1999</td>\n",
       "      <td>4</td>\n",
       "      <td>auto(l5)</td>\n",
       "      <td>f</td>\n",
       "      <td>18</td>\n",
       "      <td>29</td>\n",
       "      <td>p</td>\n",
       "      <td>compact</td>\n",
       "      <td>auto</td>\n",
       "    </tr>\n",
       "    <tr>\n",
       "      <th>2</th>\n",
       "      <td>audi</td>\n",
       "      <td>a4</td>\n",
       "      <td>1.8</td>\n",
       "      <td>1999</td>\n",
       "      <td>4</td>\n",
       "      <td>manual(m5)</td>\n",
       "      <td>f</td>\n",
       "      <td>21</td>\n",
       "      <td>29</td>\n",
       "      <td>p</td>\n",
       "      <td>compact</td>\n",
       "      <td>manual</td>\n",
       "    </tr>\n",
       "    <tr>\n",
       "      <th>3</th>\n",
       "      <td>audi</td>\n",
       "      <td>a4</td>\n",
       "      <td>2.0</td>\n",
       "      <td>2008</td>\n",
       "      <td>4</td>\n",
       "      <td>manual(m6)</td>\n",
       "      <td>f</td>\n",
       "      <td>20</td>\n",
       "      <td>31</td>\n",
       "      <td>p</td>\n",
       "      <td>compact</td>\n",
       "      <td>manual</td>\n",
       "    </tr>\n",
       "    <tr>\n",
       "      <th>4</th>\n",
       "      <td>audi</td>\n",
       "      <td>a4</td>\n",
       "      <td>2.0</td>\n",
       "      <td>2008</td>\n",
       "      <td>4</td>\n",
       "      <td>auto(av)</td>\n",
       "      <td>f</td>\n",
       "      <td>21</td>\n",
       "      <td>30</td>\n",
       "      <td>p</td>\n",
       "      <td>compact</td>\n",
       "      <td>auto</td>\n",
       "    </tr>\n",
       "    <tr>\n",
       "      <th>5</th>\n",
       "      <td>audi</td>\n",
       "      <td>a4</td>\n",
       "      <td>2.8</td>\n",
       "      <td>1999</td>\n",
       "      <td>6</td>\n",
       "      <td>auto(l5)</td>\n",
       "      <td>f</td>\n",
       "      <td>16</td>\n",
       "      <td>26</td>\n",
       "      <td>p</td>\n",
       "      <td>compact</td>\n",
       "      <td>auto</td>\n",
       "    </tr>\n",
       "  </tbody>\n",
       "</table>\n",
       "</div>"
      ],
      "text/plain": [
       "  manufacturer model  displ  year  cyl       trans drv  cty  hwy fl    class  \\\n",
       "1         audi    a4    1.8  1999    4    auto(l5)   f   18   29  p  compact   \n",
       "2         audi    a4    1.8  1999    4  manual(m5)   f   21   29  p  compact   \n",
       "3         audi    a4    2.0  2008    4  manual(m6)   f   20   31  p  compact   \n",
       "4         audi    a4    2.0  2008    4    auto(av)   f   21   30  p  compact   \n",
       "5         audi    a4    2.8  1999    6    auto(l5)   f   16   26  p  compact   \n",
       "\n",
       "  transmission  \n",
       "1         auto  \n",
       "2       manual  \n",
       "3       manual  \n",
       "4         auto  \n",
       "5         auto  "
      ]
     },
     "execution_count": 24,
     "metadata": {},
     "output_type": "execute_result"
    }
   ],
   "source": [
    "import pandas as pd\n",
    "from scipy import stats\n",
    "from pydataset import data\n",
    "\n",
    "mpg = data('mpg')\n",
    "mpg['transmission'] = mpg.trans.str[:-4]\n",
    "mpg.head()"
   ]
  },
  {
   "cell_type": "code",
   "execution_count": 26,
   "id": "462b5247",
   "metadata": {},
   "outputs": [
    {
     "data": {
      "text/html": [
       "<div>\n",
       "<style scoped>\n",
       "    .dataframe tbody tr th:only-of-type {\n",
       "        vertical-align: middle;\n",
       "    }\n",
       "\n",
       "    .dataframe tbody tr th {\n",
       "        vertical-align: top;\n",
       "    }\n",
       "\n",
       "    .dataframe thead th {\n",
       "        text-align: right;\n",
       "    }\n",
       "</style>\n",
       "<table border=\"1\" class=\"dataframe\">\n",
       "  <thead>\n",
       "    <tr style=\"text-align: right;\">\n",
       "      <th>class</th>\n",
       "      <th>2seater</th>\n",
       "      <th>compact</th>\n",
       "      <th>midsize</th>\n",
       "      <th>minivan</th>\n",
       "      <th>pickup</th>\n",
       "      <th>subcompact</th>\n",
       "      <th>suv</th>\n",
       "    </tr>\n",
       "    <tr>\n",
       "      <th>transmission</th>\n",
       "      <th></th>\n",
       "      <th></th>\n",
       "      <th></th>\n",
       "      <th></th>\n",
       "      <th></th>\n",
       "      <th></th>\n",
       "      <th></th>\n",
       "    </tr>\n",
       "  </thead>\n",
       "  <tbody>\n",
       "    <tr>\n",
       "      <th>auto</th>\n",
       "      <td>2</td>\n",
       "      <td>24</td>\n",
       "      <td>29</td>\n",
       "      <td>11</td>\n",
       "      <td>20</td>\n",
       "      <td>16</td>\n",
       "      <td>55</td>\n",
       "    </tr>\n",
       "    <tr>\n",
       "      <th>manual</th>\n",
       "      <td>3</td>\n",
       "      <td>23</td>\n",
       "      <td>12</td>\n",
       "      <td>0</td>\n",
       "      <td>13</td>\n",
       "      <td>19</td>\n",
       "      <td>7</td>\n",
       "    </tr>\n",
       "  </tbody>\n",
       "</table>\n",
       "</div>"
      ],
      "text/plain": [
       "class         2seater  compact  midsize  minivan  pickup  subcompact  suv\n",
       "transmission                                                             \n",
       "auto                2       24       29       11      20          16   55\n",
       "manual              3       23       12        0      13          19    7"
      ]
     },
     "execution_count": 26,
     "metadata": {},
     "output_type": "execute_result"
    }
   ],
   "source": [
    "observed = pd.crosstab(mpg.transmission, mpg['class'])\n",
    "observed.head()"
   ]
  },
  {
   "cell_type": "code",
   "execution_count": 27,
   "id": "0a7680ec",
   "metadata": {},
   "outputs": [
    {
     "data": {
      "text/plain": [
       "(33.7700251570052,\n",
       " 7.4513729838250925e-06,\n",
       " 6,\n",
       " array([[ 3.35470085, 31.53418803, 27.50854701,  7.38034188, 22.14102564,\n",
       "         23.48290598, 41.5982906 ],\n",
       "        [ 1.64529915, 15.46581197, 13.49145299,  3.61965812, 10.85897436,\n",
       "         11.51709402, 20.4017094 ]]))"
      ]
     },
     "execution_count": 27,
     "metadata": {},
     "output_type": "execute_result"
    }
   ],
   "source": [
    "alpha = 0.05\n",
    "chi2, p, degf, expected = stats.chi2_contingency(observed)\n",
    "chi2, p, degf, expected"
   ]
  },
  {
   "cell_type": "code",
   "execution_count": 28,
   "id": "688e74d9",
   "metadata": {},
   "outputs": [
    {
     "name": "stdout",
     "output_type": "stream",
     "text": [
      "Observed\n",
      "\n",
      "[[ 2 24 29 11 20 16 55]\n",
      " [ 3 23 12  0 13 19  7]]\n",
      "---\n",
      "Expected\n",
      "\n",
      "[[ 3 31 27  7 22 23 41]\n",
      " [ 1 15 13  3 10 11 20]]\n",
      "---\n",
      "\n",
      "chi^2 = 33.7700\n",
      "p     = 0.0000\n"
     ]
    }
   ],
   "source": [
    "print('Observed\\n')\n",
    "print(observed.values)\n",
    "print('---\\nExpected\\n')\n",
    "print(expected.astype(int))\n",
    "print('---\\n')\n",
    "print(f'chi^2 = {chi2:.4f}')\n",
    "print(f'p     = {p:.4f}')"
   ]
  },
  {
   "cell_type": "code",
   "execution_count": 30,
   "id": "eff7a46d",
   "metadata": {},
   "outputs": [
    {
     "name": "stdout",
     "output_type": "stream",
     "text": [
      "We reject the hypothesis that Transmission and Class are independent\n"
     ]
    }
   ],
   "source": [
    "null_hypothesis = \"Transmission and Class are independent\"\n",
    "\n",
    "if p < alpha:\n",
    "    print(\"We reject the hypothesis that\", null_hypothesis)\n",
    "else:\n",
    "    print(\"We fail to reject the null hypothesis\")"
   ]
  },
  {
   "cell_type": "markdown",
   "id": "504e5396",
   "metadata": {},
   "source": [
    "## Use the data from the employees database to answer these questions:"
   ]
  },
  {
   "cell_type": "markdown",
   "id": "f191379f",
   "metadata": {},
   "source": [
    "### Is an employee's gender independent of whether an employee works in sales or marketing? (only look at current employees)"
   ]
  },
  {
   "cell_type": "markdown",
   "id": "3c47af35",
   "metadata": {},
   "source": [
    "- $H_0$ there is no association between gender and department (they are independent)\n",
    "- $H_a$ there is an association (they are not independent) between gender and department"
   ]
  },
  {
   "cell_type": "code",
   "execution_count": 38,
   "id": "1c253347",
   "metadata": {},
   "outputs": [
    {
     "data": {
      "text/plain": [
       "240124"
      ]
     },
     "execution_count": 38,
     "metadata": {},
     "output_type": "execute_result"
    }
   ],
   "source": [
    "from env import host, user, password\n",
    "\n",
    "url = f'mysql+pymysql://{user}:{password}@{host}/employees'\n",
    "    \n",
    "\n",
    "sql = \"\"\"\n",
    "select *\n",
    "from dept_emp\n",
    "join employees using(emp_no)\n",
    "where to_date > curdate();\n",
    "\"\"\"\n",
    "\n",
    "employees = pd.read_sql(sql, url)\n",
    "employees.head()\n",
    "len(employees)"
   ]
  },
  {
   "cell_type": "code",
   "execution_count": 41,
   "id": "97af1ae9",
   "metadata": {},
   "outputs": [
    {
     "data": {
      "text/html": [
       "<div>\n",
       "<style scoped>\n",
       "    .dataframe tbody tr th:only-of-type {\n",
       "        vertical-align: middle;\n",
       "    }\n",
       "\n",
       "    .dataframe tbody tr th {\n",
       "        vertical-align: top;\n",
       "    }\n",
       "\n",
       "    .dataframe thead th {\n",
       "        text-align: right;\n",
       "    }\n",
       "</style>\n",
       "<table border=\"1\" class=\"dataframe\">\n",
       "  <thead>\n",
       "    <tr style=\"text-align: right;\">\n",
       "      <th></th>\n",
       "      <th>emp_no</th>\n",
       "      <th>dept_no</th>\n",
       "      <th>from_date</th>\n",
       "      <th>to_date</th>\n",
       "      <th>birth_date</th>\n",
       "      <th>first_name</th>\n",
       "      <th>last_name</th>\n",
       "      <th>gender</th>\n",
       "      <th>hire_date</th>\n",
       "      <th>sales_or_marketing</th>\n",
       "    </tr>\n",
       "  </thead>\n",
       "  <tbody>\n",
       "    <tr>\n",
       "      <th>0</th>\n",
       "      <td>10001</td>\n",
       "      <td>d005</td>\n",
       "      <td>1986-06-26</td>\n",
       "      <td>9999-01-01</td>\n",
       "      <td>1953-09-02</td>\n",
       "      <td>Georgi</td>\n",
       "      <td>Facello</td>\n",
       "      <td>M</td>\n",
       "      <td>1986-06-26</td>\n",
       "      <td>False</td>\n",
       "    </tr>\n",
       "    <tr>\n",
       "      <th>1</th>\n",
       "      <td>10002</td>\n",
       "      <td>d007</td>\n",
       "      <td>1996-08-03</td>\n",
       "      <td>9999-01-01</td>\n",
       "      <td>1964-06-02</td>\n",
       "      <td>Bezalel</td>\n",
       "      <td>Simmel</td>\n",
       "      <td>F</td>\n",
       "      <td>1985-11-21</td>\n",
       "      <td>True</td>\n",
       "    </tr>\n",
       "    <tr>\n",
       "      <th>2</th>\n",
       "      <td>10003</td>\n",
       "      <td>d004</td>\n",
       "      <td>1995-12-03</td>\n",
       "      <td>9999-01-01</td>\n",
       "      <td>1959-12-03</td>\n",
       "      <td>Parto</td>\n",
       "      <td>Bamford</td>\n",
       "      <td>M</td>\n",
       "      <td>1986-08-28</td>\n",
       "      <td>False</td>\n",
       "    </tr>\n",
       "    <tr>\n",
       "      <th>3</th>\n",
       "      <td>10004</td>\n",
       "      <td>d004</td>\n",
       "      <td>1986-12-01</td>\n",
       "      <td>9999-01-01</td>\n",
       "      <td>1954-05-01</td>\n",
       "      <td>Chirstian</td>\n",
       "      <td>Koblick</td>\n",
       "      <td>M</td>\n",
       "      <td>1986-12-01</td>\n",
       "      <td>False</td>\n",
       "    </tr>\n",
       "    <tr>\n",
       "      <th>4</th>\n",
       "      <td>10005</td>\n",
       "      <td>d003</td>\n",
       "      <td>1989-09-12</td>\n",
       "      <td>9999-01-01</td>\n",
       "      <td>1955-01-21</td>\n",
       "      <td>Kyoichi</td>\n",
       "      <td>Maliniak</td>\n",
       "      <td>M</td>\n",
       "      <td>1989-09-12</td>\n",
       "      <td>False</td>\n",
       "    </tr>\n",
       "  </tbody>\n",
       "</table>\n",
       "</div>"
      ],
      "text/plain": [
       "   emp_no dept_no   from_date     to_date  birth_date first_name last_name  \\\n",
       "0   10001    d005  1986-06-26  9999-01-01  1953-09-02     Georgi   Facello   \n",
       "1   10002    d007  1996-08-03  9999-01-01  1964-06-02    Bezalel    Simmel   \n",
       "2   10003    d004  1995-12-03  9999-01-01  1959-12-03      Parto   Bamford   \n",
       "3   10004    d004  1986-12-01  9999-01-01  1954-05-01  Chirstian   Koblick   \n",
       "4   10005    d003  1989-09-12  9999-01-01  1955-01-21    Kyoichi  Maliniak   \n",
       "\n",
       "  gender   hire_date  sales_or_marketing  \n",
       "0      M  1986-06-26               False  \n",
       "1      F  1985-11-21                True  \n",
       "2      M  1986-08-28               False  \n",
       "3      M  1986-12-01               False  \n",
       "4      M  1989-09-12               False  "
      ]
     },
     "execution_count": 41,
     "metadata": {},
     "output_type": "execute_result"
    }
   ],
   "source": [
    "employees['sales_or_marketing'] = ((employees.dept_no == 'd007') | (employees.dept_no == 'd001'))\n",
    "employees.head()"
   ]
  },
  {
   "cell_type": "code",
   "execution_count": 42,
   "id": "3867aab9",
   "metadata": {},
   "outputs": [
    {
     "data": {
      "text/html": [
       "<div>\n",
       "<style scoped>\n",
       "    .dataframe tbody tr th:only-of-type {\n",
       "        vertical-align: middle;\n",
       "    }\n",
       "\n",
       "    .dataframe tbody tr th {\n",
       "        vertical-align: top;\n",
       "    }\n",
       "\n",
       "    .dataframe thead th {\n",
       "        text-align: right;\n",
       "    }\n",
       "</style>\n",
       "<table border=\"1\" class=\"dataframe\">\n",
       "  <thead>\n",
       "    <tr style=\"text-align: right;\">\n",
       "      <th>sales_or_marketing</th>\n",
       "      <th>False</th>\n",
       "      <th>True</th>\n",
       "    </tr>\n",
       "    <tr>\n",
       "      <th>gender</th>\n",
       "      <th></th>\n",
       "      <th></th>\n",
       "    </tr>\n",
       "  </thead>\n",
       "  <tbody>\n",
       "    <tr>\n",
       "      <th>F</th>\n",
       "      <td>75147</td>\n",
       "      <td>20863</td>\n",
       "    </tr>\n",
       "    <tr>\n",
       "      <th>M</th>\n",
       "      <td>112434</td>\n",
       "      <td>31680</td>\n",
       "    </tr>\n",
       "  </tbody>\n",
       "</table>\n",
       "</div>"
      ],
      "text/plain": [
       "sales_or_marketing   False  True \n",
       "gender                           \n",
       "F                    75147  20863\n",
       "M                   112434  31680"
      ]
     },
     "execution_count": 42,
     "metadata": {},
     "output_type": "execute_result"
    }
   ],
   "source": [
    "\n",
    "observed = pd.crosstab(employees.gender, employees.sales_or_marketing)\n",
    "observed.head()"
   ]
  },
  {
   "cell_type": "code",
   "execution_count": 44,
   "id": "2b4c1f60",
   "metadata": {},
   "outputs": [
    {
     "data": {
      "text/plain": [
       "(2.135626419609239,\n",
       " 0.143911663394633,\n",
       " 1,\n",
       " array([[ 75001.46511802,  21008.53488198],\n",
       "        [112579.53488198,  31534.46511802]]))"
      ]
     },
     "execution_count": 44,
     "metadata": {},
     "output_type": "execute_result"
    }
   ],
   "source": [
    "alpha = 0.05\n",
    "chi2, p, degf, expected = stats.chi2_contingency(observed)\n",
    "chi2, p, degf, expected\n",
    "\n"
   ]
  },
  {
   "cell_type": "code",
   "execution_count": 45,
   "id": "1185ea36",
   "metadata": {},
   "outputs": [
    {
     "name": "stdout",
     "output_type": "stream",
     "text": [
      "Observed\n",
      "\n",
      "[[ 75147  20863]\n",
      " [112434  31680]]\n",
      "---\n",
      "Expected\n",
      "\n",
      "[[ 75001  21008]\n",
      " [112579  31534]]\n",
      "---\n",
      "\n",
      "chi^2 = 2.1356\n",
      "p     = 0.1439\n"
     ]
    }
   ],
   "source": [
    "print('Observed\\n')\n",
    "print(observed.values)\n",
    "print('---\\nExpected\\n')\n",
    "print(expected.astype(int))\n",
    "print('---\\n')\n",
    "print(f'chi^2 = {chi2:.4f}')\n",
    "print(f'p     = {p:.4f}')"
   ]
  },
  {
   "cell_type": "code",
   "execution_count": 46,
   "id": "7a8f51e3",
   "metadata": {},
   "outputs": [
    {
     "name": "stdout",
     "output_type": "stream",
     "text": [
      "We fail to reject the null hypothesis\n"
     ]
    }
   ],
   "source": [
    "null_hypothesis = \"there is no association between gender and department (they are independent)\"\n",
    "\n",
    "if p < alpha:\n",
    "    print(\"We reject the hypothesis that\", null_hypothesis)\n",
    "else:\n",
    "    print(\"We fail to reject the null hypothesis\")"
   ]
  },
  {
   "cell_type": "markdown",
   "id": "2f2e000e",
   "metadata": {},
   "source": [
    "### Is an employee's gender independent of whether or not they are or have been a manager?"
   ]
  },
  {
   "cell_type": "markdown",
   "id": "b36c11ea",
   "metadata": {},
   "source": [
    "- $H_0$ there is no association between gender and being manager (they are independent)\n",
    "- $H_a$ there is an association (they are not independent) between gender and being manager"
   ]
  },
  {
   "cell_type": "code",
   "execution_count": 48,
   "id": "faf636f7",
   "metadata": {},
   "outputs": [
    {
     "data": {
      "text/html": [
       "<div>\n",
       "<style scoped>\n",
       "    .dataframe tbody tr th:only-of-type {\n",
       "        vertical-align: middle;\n",
       "    }\n",
       "\n",
       "    .dataframe tbody tr th {\n",
       "        vertical-align: top;\n",
       "    }\n",
       "\n",
       "    .dataframe thead th {\n",
       "        text-align: right;\n",
       "    }\n",
       "</style>\n",
       "<table border=\"1\" class=\"dataframe\">\n",
       "  <thead>\n",
       "    <tr style=\"text-align: right;\">\n",
       "      <th></th>\n",
       "      <th>emp_no</th>\n",
       "      <th>dept_no</th>\n",
       "      <th>from_date</th>\n",
       "      <th>to_date</th>\n",
       "    </tr>\n",
       "  </thead>\n",
       "  <tbody>\n",
       "    <tr>\n",
       "      <th>0</th>\n",
       "      <td>110022</td>\n",
       "      <td>d001</td>\n",
       "      <td>1985-01-01</td>\n",
       "      <td>1991-10-01</td>\n",
       "    </tr>\n",
       "    <tr>\n",
       "      <th>1</th>\n",
       "      <td>110039</td>\n",
       "      <td>d001</td>\n",
       "      <td>1991-10-01</td>\n",
       "      <td>9999-01-01</td>\n",
       "    </tr>\n",
       "    <tr>\n",
       "      <th>2</th>\n",
       "      <td>110085</td>\n",
       "      <td>d002</td>\n",
       "      <td>1985-01-01</td>\n",
       "      <td>1989-12-17</td>\n",
       "    </tr>\n",
       "    <tr>\n",
       "      <th>3</th>\n",
       "      <td>110114</td>\n",
       "      <td>d002</td>\n",
       "      <td>1989-12-17</td>\n",
       "      <td>9999-01-01</td>\n",
       "    </tr>\n",
       "    <tr>\n",
       "      <th>4</th>\n",
       "      <td>110183</td>\n",
       "      <td>d003</td>\n",
       "      <td>1985-01-01</td>\n",
       "      <td>1992-03-21</td>\n",
       "    </tr>\n",
       "    <tr>\n",
       "      <th>5</th>\n",
       "      <td>110228</td>\n",
       "      <td>d003</td>\n",
       "      <td>1992-03-21</td>\n",
       "      <td>9999-01-01</td>\n",
       "    </tr>\n",
       "    <tr>\n",
       "      <th>6</th>\n",
       "      <td>110303</td>\n",
       "      <td>d004</td>\n",
       "      <td>1985-01-01</td>\n",
       "      <td>1988-09-09</td>\n",
       "    </tr>\n",
       "    <tr>\n",
       "      <th>7</th>\n",
       "      <td>110344</td>\n",
       "      <td>d004</td>\n",
       "      <td>1988-09-09</td>\n",
       "      <td>1992-08-02</td>\n",
       "    </tr>\n",
       "    <tr>\n",
       "      <th>8</th>\n",
       "      <td>110386</td>\n",
       "      <td>d004</td>\n",
       "      <td>1992-08-02</td>\n",
       "      <td>1996-08-30</td>\n",
       "    </tr>\n",
       "    <tr>\n",
       "      <th>9</th>\n",
       "      <td>110420</td>\n",
       "      <td>d004</td>\n",
       "      <td>1996-08-30</td>\n",
       "      <td>9999-01-01</td>\n",
       "    </tr>\n",
       "    <tr>\n",
       "      <th>10</th>\n",
       "      <td>110511</td>\n",
       "      <td>d005</td>\n",
       "      <td>1985-01-01</td>\n",
       "      <td>1992-04-25</td>\n",
       "    </tr>\n",
       "    <tr>\n",
       "      <th>11</th>\n",
       "      <td>110567</td>\n",
       "      <td>d005</td>\n",
       "      <td>1992-04-25</td>\n",
       "      <td>9999-01-01</td>\n",
       "    </tr>\n",
       "    <tr>\n",
       "      <th>12</th>\n",
       "      <td>110725</td>\n",
       "      <td>d006</td>\n",
       "      <td>1985-01-01</td>\n",
       "      <td>1989-05-06</td>\n",
       "    </tr>\n",
       "    <tr>\n",
       "      <th>13</th>\n",
       "      <td>110765</td>\n",
       "      <td>d006</td>\n",
       "      <td>1989-05-06</td>\n",
       "      <td>1991-09-12</td>\n",
       "    </tr>\n",
       "    <tr>\n",
       "      <th>14</th>\n",
       "      <td>110800</td>\n",
       "      <td>d006</td>\n",
       "      <td>1991-09-12</td>\n",
       "      <td>1994-06-28</td>\n",
       "    </tr>\n",
       "    <tr>\n",
       "      <th>15</th>\n",
       "      <td>110854</td>\n",
       "      <td>d006</td>\n",
       "      <td>1994-06-28</td>\n",
       "      <td>9999-01-01</td>\n",
       "    </tr>\n",
       "    <tr>\n",
       "      <th>16</th>\n",
       "      <td>111035</td>\n",
       "      <td>d007</td>\n",
       "      <td>1985-01-01</td>\n",
       "      <td>1991-03-07</td>\n",
       "    </tr>\n",
       "    <tr>\n",
       "      <th>17</th>\n",
       "      <td>111133</td>\n",
       "      <td>d007</td>\n",
       "      <td>1991-03-07</td>\n",
       "      <td>9999-01-01</td>\n",
       "    </tr>\n",
       "    <tr>\n",
       "      <th>18</th>\n",
       "      <td>111400</td>\n",
       "      <td>d008</td>\n",
       "      <td>1985-01-01</td>\n",
       "      <td>1991-04-08</td>\n",
       "    </tr>\n",
       "    <tr>\n",
       "      <th>19</th>\n",
       "      <td>111534</td>\n",
       "      <td>d008</td>\n",
       "      <td>1991-04-08</td>\n",
       "      <td>9999-01-01</td>\n",
       "    </tr>\n",
       "    <tr>\n",
       "      <th>20</th>\n",
       "      <td>111692</td>\n",
       "      <td>d009</td>\n",
       "      <td>1985-01-01</td>\n",
       "      <td>1988-10-17</td>\n",
       "    </tr>\n",
       "    <tr>\n",
       "      <th>21</th>\n",
       "      <td>111784</td>\n",
       "      <td>d009</td>\n",
       "      <td>1988-10-17</td>\n",
       "      <td>1992-09-08</td>\n",
       "    </tr>\n",
       "    <tr>\n",
       "      <th>22</th>\n",
       "      <td>111877</td>\n",
       "      <td>d009</td>\n",
       "      <td>1992-09-08</td>\n",
       "      <td>1996-01-03</td>\n",
       "    </tr>\n",
       "    <tr>\n",
       "      <th>23</th>\n",
       "      <td>111939</td>\n",
       "      <td>d009</td>\n",
       "      <td>1996-01-03</td>\n",
       "      <td>9999-01-01</td>\n",
       "    </tr>\n",
       "  </tbody>\n",
       "</table>\n",
       "</div>"
      ],
      "text/plain": [
       "    emp_no dept_no   from_date     to_date\n",
       "0   110022    d001  1985-01-01  1991-10-01\n",
       "1   110039    d001  1991-10-01  9999-01-01\n",
       "2   110085    d002  1985-01-01  1989-12-17\n",
       "3   110114    d002  1989-12-17  9999-01-01\n",
       "4   110183    d003  1985-01-01  1992-03-21\n",
       "5   110228    d003  1992-03-21  9999-01-01\n",
       "6   110303    d004  1985-01-01  1988-09-09\n",
       "7   110344    d004  1988-09-09  1992-08-02\n",
       "8   110386    d004  1992-08-02  1996-08-30\n",
       "9   110420    d004  1996-08-30  9999-01-01\n",
       "10  110511    d005  1985-01-01  1992-04-25\n",
       "11  110567    d005  1992-04-25  9999-01-01\n",
       "12  110725    d006  1985-01-01  1989-05-06\n",
       "13  110765    d006  1989-05-06  1991-09-12\n",
       "14  110800    d006  1991-09-12  1994-06-28\n",
       "15  110854    d006  1994-06-28  9999-01-01\n",
       "16  111035    d007  1985-01-01  1991-03-07\n",
       "17  111133    d007  1991-03-07  9999-01-01\n",
       "18  111400    d008  1985-01-01  1991-04-08\n",
       "19  111534    d008  1991-04-08  9999-01-01\n",
       "20  111692    d009  1985-01-01  1988-10-17\n",
       "21  111784    d009  1988-10-17  1992-09-08\n",
       "22  111877    d009  1992-09-08  1996-01-03\n",
       "23  111939    d009  1996-01-03  9999-01-01"
      ]
     },
     "execution_count": 48,
     "metadata": {},
     "output_type": "execute_result"
    }
   ],
   "source": [
    "from env import host, user, password\n",
    "\n",
    "url = f'mysql+pymysql://{user}:{password}@{host}/employees'\n",
    "    \n",
    "\n",
    "sql = \"\"\"\n",
    "select *\n",
    "from dept_manager;\n",
    "\"\"\"\n",
    "\n",
    "manager = pd.read_sql(sql, url)\n",
    "manager"
   ]
  },
  {
   "cell_type": "code",
   "execution_count": null,
   "id": "512d1988",
   "metadata": {},
   "outputs": [],
   "source": []
  },
  {
   "cell_type": "code",
   "execution_count": null,
   "id": "6990710d",
   "metadata": {},
   "outputs": [],
   "source": []
  }
 ],
 "metadata": {
  "kernelspec": {
   "display_name": "Python 3",
   "language": "python",
   "name": "python3"
  },
  "language_info": {
   "codemirror_mode": {
    "name": "ipython",
    "version": 3
   },
   "file_extension": ".py",
   "mimetype": "text/x-python",
   "name": "python",
   "nbconvert_exporter": "python",
   "pygments_lexer": "ipython3",
   "version": "3.8.8"
  }
 },
 "nbformat": 4,
 "nbformat_minor": 5
}

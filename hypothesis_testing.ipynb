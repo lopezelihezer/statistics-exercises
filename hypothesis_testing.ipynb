{
 "cells": [
  {
   "cell_type": "markdown",
   "id": "a1b8c6b8",
   "metadata": {},
   "source": [
    "For each of the following questions, formulate a null and alternative hypothesis (be as specific as you can be), then give an example of what a true positive, true negative, type I and type II errors would look like. Note that some of the questions are intentionally phrased in a vague way. It is your job to reword these as more precise questions that could be tested."
   ]
  },
  {
   "cell_type": "markdown",
   "id": "0db118e0",
   "metadata": {},
   "source": [
    "- Has the network latency gone up since we switched internet service providers?\n"
   ]
  },
  {
   "cell_type": "code",
   "execution_count": null,
   "id": "8c1a3125",
   "metadata": {},
   "outputs": [],
   "source": [
    "# null hypothesis = network latency has not changed since switching ISPs.\n",
    "# alternative hypothesis = network latency has increased or decreased since switching ISPs.\n",
    "\n",
    "# true positive = network latency has increased or decreased\n",
    "# true negative = network latency has no changed\n",
    "# type I error = rejecting the null hypothesis, but network latency has not changed after switching ISPs.\n",
    "# type II error = accept the null hypothesis, but network latency has changed since switching ISPs. "
   ]
  },
  {
   "cell_type": "markdown",
   "id": "324f7af1",
   "metadata": {},
   "source": [
    "- Is the website redesign any good?\n"
   ]
  },
  {
   "cell_type": "code",
   "execution_count": null,
   "id": "d69dea2d",
   "metadata": {},
   "outputs": [],
   "source": [
    "# null hypothesis = website redesign is not good\n",
    "# alternative hypothesis = website redesign is good\n",
    "\n",
    "# true positive = website redesign is good\n",
    "# true negative = website redesign is not good\n",
    "# type I error = reject the null hypothesis, but website redesign is not good\n",
    "# type II error = accept the null hypothesis, but website redesign is good"
   ]
  },
  {
   "cell_type": "markdown",
   "id": "e7b21959",
   "metadata": {},
   "source": [
    "- Is our television ad driving more sales?"
   ]
  },
  {
   "cell_type": "code",
   "execution_count": null,
   "id": "a16de985",
   "metadata": {},
   "outputs": [],
   "source": [
    "# null hypothesis = there has been no change in sales since releasing a tv ad. \n",
    "# alternative hypothesis = sales have increased or decreased since releasing a tv ad. \n",
    "\n",
    "# true positive = there has been a change in sales since releasing the tv ad.\n",
    "# true negative = there has been no change in sales since releasing the tv ad. \n",
    "# type I error = there has been a change in sales, but the test does not support it. \n",
    "# type II error = there has been no changed in sales, but the test does not support it. "
   ]
  }
 ],
 "metadata": {
  "kernelspec": {
   "display_name": "Python 3",
   "language": "python",
   "name": "python3"
  },
  "language_info": {
   "codemirror_mode": {
    "name": "ipython",
    "version": 3
   },
   "file_extension": ".py",
   "mimetype": "text/x-python",
   "name": "python",
   "nbconvert_exporter": "python",
   "pygments_lexer": "ipython3",
   "version": "3.8.8"
  }
 },
 "nbformat": 4,
 "nbformat_minor": 5
}

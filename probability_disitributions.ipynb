{
 "cells": [
  {
   "cell_type": "markdown",
   "id": "cf95d9db",
   "metadata": {},
   "source": [
    "1. A bank found that the average number of cars waiting during the noon hour at a drive-up window follows a Poisson distribution with a mean of 2 cars. Make a chart of this distribution and answer these questions concerning the probability of cars waiting at the drive-up window.\n",
    "\n",
    "- What is the probability that no cars drive up in the noon hour?\n",
    "- What is the probability that 3 or more cars come through the drive through?\n",
    "- How likely is it that the drive through gets at least 1 car?"
   ]
  },
  {
   "cell_type": "code",
   "execution_count": 2,
   "id": "29320d18",
   "metadata": {},
   "outputs": [],
   "source": [
    "# poisson, mean = 2\n",
    "\n",
    "import matplotlib.pyplot as plt\n",
    "import numpy as np\n",
    "from scipy import stats"
   ]
  },
  {
   "cell_type": "code",
   "execution_count": 4,
   "id": "1aec9918",
   "metadata": {},
   "outputs": [
    {
     "data": {
      "text/plain": [
       "0.1353352832366127"
      ]
     },
     "execution_count": 4,
     "metadata": {},
     "output_type": "execute_result"
    }
   ],
   "source": [
    "stats.poisson(2).pmf(0)\n",
    "#a"
   ]
  },
  {
   "cell_type": "code",
   "execution_count": 5,
   "id": "78bac0c3",
   "metadata": {},
   "outputs": [
    {
     "data": {
      "text/plain": [
       "0.32332358381693654"
      ]
     },
     "execution_count": 5,
     "metadata": {},
     "output_type": "execute_result"
    }
   ],
   "source": [
    "stats.poisson(2).sf(2)\n",
    "#b"
   ]
  },
  {
   "cell_type": "code",
   "execution_count": 6,
   "id": "db22d119",
   "metadata": {},
   "outputs": [
    {
     "data": {
      "text/plain": [
       "0.8646647167633873"
      ]
     },
     "execution_count": 6,
     "metadata": {},
     "output_type": "execute_result"
    }
   ],
   "source": [
    "1 - stats.poisson(2).pmf(0)\n",
    "#c"
   ]
  },
  {
   "cell_type": "code",
   "execution_count": 7,
   "id": "743a6ba8",
   "metadata": {},
   "outputs": [
    {
     "data": {
      "text/plain": [
       "0.8646647167633873"
      ]
     },
     "execution_count": 7,
     "metadata": {},
     "output_type": "execute_result"
    }
   ],
   "source": [
    "stats.poisson(2).sf(0)\n",
    "#c same answer as before but different approach"
   ]
  },
  {
   "cell_type": "markdown",
   "id": "773fef4c",
   "metadata": {},
   "source": [
    "2. Grades of State University graduates are normally distributed with a mean of 3.0 and a standard deviation of .3. Calculate the following:\n",
    "\n",
    "- What grade point average is required to be in the top 5% of the graduating class?\n",
    "- What GPA constitutes the bottom 15% of the class?\n",
    "- An eccentric alumnus left scholarship money for students in the third decile from the bottom of their class. Determine the range of the third decile. Would a student with a 2.8 grade point average qualify for this scholarship?\n",
    "- If I have a GPA of 3.5, what percentile am I in?"
   ]
  },
  {
   "cell_type": "code",
   "execution_count": 8,
   "id": "2f141f6f",
   "metadata": {},
   "outputs": [
    {
     "data": {
      "text/plain": [
       "3.4934560880854417"
      ]
     },
     "execution_count": 8,
     "metadata": {},
     "output_type": "execute_result"
    }
   ],
   "source": [
    "# mean = 3.0 std = .3 normal distribution\n",
    "grades = stats.norm(3, .3)\n",
    "grades.ppf(.95)\n",
    "#a"
   ]
  },
  {
   "cell_type": "code",
   "execution_count": 9,
   "id": "8b4428a4",
   "metadata": {},
   "outputs": [
    {
     "data": {
      "text/plain": [
       "2.689069983151863"
      ]
     },
     "execution_count": 9,
     "metadata": {},
     "output_type": "execute_result"
    }
   ],
   "source": [
    "#b\n",
    "grades.ppf(.15)"
   ]
  },
  {
   "cell_type": "code",
   "execution_count": 10,
   "id": "49dd7e49",
   "metadata": {},
   "outputs": [
    {
     "data": {
      "text/plain": [
       "0.09430273264002187"
      ]
     },
     "execution_count": 10,
     "metadata": {},
     "output_type": "execute_result"
    }
   ],
   "source": [
    "#c range for 3rd decile is between .2 and .299\n",
    "grades.ppf(.299) - grades.ppf(.2)\n",
    "#deviation"
   ]
  },
  {
   "cell_type": "code",
   "execution_count": 11,
   "id": "1632e238",
   "metadata": {},
   "outputs": [
    {
     "data": {
      "text/plain": [
       "2.8418163625681476"
      ]
     },
     "execution_count": 11,
     "metadata": {},
     "output_type": "execute_result"
    }
   ],
   "source": [
    "grades.ppf(.299)"
   ]
  },
  {
   "cell_type": "code",
   "execution_count": 12,
   "id": "f4d1ce14",
   "metadata": {},
   "outputs": [
    {
     "data": {
      "text/plain": [
       "2.7475136299281258"
      ]
     },
     "execution_count": 12,
     "metadata": {},
     "output_type": "execute_result"
    }
   ],
   "source": [
    "grades.ppf(.2)"
   ]
  },
  {
   "cell_type": "code",
   "execution_count": 13,
   "id": "29bde157",
   "metadata": {},
   "outputs": [],
   "source": [
    "# range would be 2.747 - 2.842\n",
    "# A student with a 2.8 GPA would qualify for the scholarship\n"
   ]
  },
  {
   "cell_type": "code",
   "execution_count": 15,
   "id": "ab20a48b",
   "metadata": {},
   "outputs": [
    {
     "data": {
      "text/plain": [
       "0.9522096477271853"
      ]
     },
     "execution_count": 15,
     "metadata": {},
     "output_type": "execute_result"
    }
   ],
   "source": [
    "grades.cdf(3.5)\n",
    "# With a 3.5 you'd be in the top 5%"
   ]
  },
  {
   "cell_type": "code",
   "execution_count": null,
   "id": "bac35da9",
   "metadata": {},
   "outputs": [],
   "source": []
  }
 ],
 "metadata": {
  "kernelspec": {
   "display_name": "Python 3",
   "language": "python",
   "name": "python3"
  },
  "language_info": {
   "codemirror_mode": {
    "name": "ipython",
    "version": 3
   },
   "file_extension": ".py",
   "mimetype": "text/x-python",
   "name": "python",
   "nbconvert_exporter": "python",
   "pygments_lexer": "ipython3",
   "version": "3.8.8"
  }
 },
 "nbformat": 4,
 "nbformat_minor": 5
}

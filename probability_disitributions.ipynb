{
 "cells": [
  {
   "cell_type": "markdown",
   "id": "140050b7",
   "metadata": {},
   "source": [
    "1. A bank found that the average number of cars waiting during the noon hour at a drive-up window follows a Poisson distribution with a mean of 2 cars. Make a chart of this distribution and answer these questions concerning the probability of cars waiting at the drive-up window.\n",
    "\n",
    "- What is the probability that no cars drive up in the noon hour?\n",
    "- What is the probability that 3 or more cars come through the drive through?\n",
    "- How likely is it that the drive through gets at least 1 car?"
   ]
  },
  {
   "cell_type": "code",
   "execution_count": 2,
   "id": "29cc21ed",
   "metadata": {},
   "outputs": [],
   "source": [
    "# poisson, mean = 2\n",
    "\n",
    "import matplotlib.pyplot as plt\n",
    "import numpy as np\n",
    "from scipy import stats"
   ]
  },
  {
   "cell_type": "code",
   "execution_count": 4,
   "id": "c62524a6",
   "metadata": {},
   "outputs": [
    {
     "data": {
      "text/plain": [
       "0.1353352832366127"
      ]
     },
     "execution_count": 4,
     "metadata": {},
     "output_type": "execute_result"
    }
   ],
   "source": [
    "stats.poisson(2).pmf(0)\n",
    "#a"
   ]
  },
  {
   "cell_type": "code",
   "execution_count": 5,
   "id": "a4c2c28b",
   "metadata": {},
   "outputs": [
    {
     "data": {
      "text/plain": [
       "0.32332358381693654"
      ]
     },
     "execution_count": 5,
     "metadata": {},
     "output_type": "execute_result"
    }
   ],
   "source": [
    "stats.poisson(2).sf(2)\n",
    "#b"
   ]
  },
  {
   "cell_type": "code",
   "execution_count": 6,
   "id": "131245bb",
   "metadata": {},
   "outputs": [
    {
     "data": {
      "text/plain": [
       "0.8646647167633873"
      ]
     },
     "execution_count": 6,
     "metadata": {},
     "output_type": "execute_result"
    }
   ],
   "source": [
    "1 - stats.poisson(2).pmf(0)\n",
    "#c"
   ]
  },
  {
   "cell_type": "code",
   "execution_count": 7,
   "id": "7467a7c6",
   "metadata": {},
   "outputs": [
    {
     "data": {
      "text/plain": [
       "0.8646647167633873"
      ]
     },
     "execution_count": 7,
     "metadata": {},
     "output_type": "execute_result"
    }
   ],
   "source": [
    "stats.poisson(2).sf(0)\n",
    "#c same answer as before but different approach"
   ]
  },
  {
   "cell_type": "markdown",
   "id": "9d47c4ba",
   "metadata": {},
   "source": [
    "2. Grades of State University graduates are normally distributed with a mean of 3.0 and a standard deviation of .3. Calculate the following:\n",
    "\n",
    "- What grade point average is required to be in the top 5% of the graduating class?\n",
    "- What GPA constitutes the bottom 15% of the class?\n",
    "- An eccentric alumnus left scholarship money for students in the third decile from the bottom of their class. Determine the range of the third decile. Would a student with a 2.8 grade point average qualify for this scholarship?\n",
    "- If I have a GPA of 3.5, what percentile am I in?"
   ]
  },
  {
   "cell_type": "code",
   "execution_count": 8,
   "id": "0168e497",
   "metadata": {},
   "outputs": [
    {
     "data": {
      "text/plain": [
       "3.4934560880854417"
      ]
     },
     "execution_count": 8,
     "metadata": {},
     "output_type": "execute_result"
    }
   ],
   "source": [
    "# mean = 3.0 std = .3 normal distribution\n",
    "grades = stats.norm(3, .3)\n",
    "grades.ppf(.95)\n",
    "#a"
   ]
  },
  {
   "cell_type": "code",
   "execution_count": 9,
   "id": "f41bac3b",
   "metadata": {},
   "outputs": [
    {
     "data": {
      "text/plain": [
       "2.689069983151863"
      ]
     },
     "execution_count": 9,
     "metadata": {},
     "output_type": "execute_result"
    }
   ],
   "source": [
    "#b\n",
    "grades.ppf(.15)"
   ]
  },
  {
   "cell_type": "code",
   "execution_count": 10,
   "id": "f6e63e8f",
   "metadata": {},
   "outputs": [
    {
     "data": {
      "text/plain": [
       "0.09430273264002187"
      ]
     },
     "execution_count": 10,
     "metadata": {},
     "output_type": "execute_result"
    }
   ],
   "source": [
    "#c range for 3rd decile is between .2 and .299\n",
    "grades.ppf(.299) - grades.ppf(.2)\n",
    "#deviation"
   ]
  },
  {
   "cell_type": "code",
   "execution_count": 11,
   "id": "22d2b1f1",
   "metadata": {},
   "outputs": [
    {
     "data": {
      "text/plain": [
       "2.8418163625681476"
      ]
     },
     "execution_count": 11,
     "metadata": {},
     "output_type": "execute_result"
    }
   ],
   "source": [
    "grades.ppf(.299)"
   ]
  },
  {
   "cell_type": "code",
   "execution_count": 12,
   "id": "f09be7ef",
   "metadata": {},
   "outputs": [
    {
     "data": {
      "text/plain": [
       "2.7475136299281258"
      ]
     },
     "execution_count": 12,
     "metadata": {},
     "output_type": "execute_result"
    }
   ],
   "source": [
    "grades.ppf(.2)"
   ]
  },
  {
   "cell_type": "code",
   "execution_count": 13,
   "id": "54aceb70",
   "metadata": {},
   "outputs": [],
   "source": [
    "# range would be 2.747 - 2.842\n",
    "# A student with a 2.8 GPA would qualify for the scholarship\n"
   ]
  },
  {
   "cell_type": "code",
   "execution_count": 15,
   "id": "4eee6b1b",
   "metadata": {},
   "outputs": [
    {
     "data": {
      "text/plain": [
       "0.9522096477271853"
      ]
     },
     "execution_count": 15,
     "metadata": {},
     "output_type": "execute_result"
    }
   ],
   "source": [
    "grades.cdf(3.5)\n",
    "# With a 3.5 you'd be in the top 5%"
   ]
  },
  {
   "cell_type": "markdown",
   "id": "3825c0cd",
   "metadata": {},
   "source": [
    "3. A marketing website has an average click-through rate of 2%. One day they observe 4326 visitors and 97 click-throughs. How likely is it that this many people or more click through?"
   ]
  },
  {
   "cell_type": "code",
   "execution_count": 16,
   "id": "caa71e4f",
   "metadata": {},
   "outputs": [
    {
     "data": {
      "text/plain": [
       "0.11781530585907925"
      ]
     },
     "execution_count": 16,
     "metadata": {},
     "output_type": "execute_result"
    }
   ],
   "source": [
    "# mean = .02  97/4326 = 0.0224\n",
    "stats.binom(4326, .02).sf(97)"
   ]
  },
  {
   "cell_type": "markdown",
   "id": "425ed41e",
   "metadata": {},
   "source": [
    "4. You are working on some statistics homework consisting of 100 questions where all of the answers are a probability rounded to the hundreths place. Looking to save time, you put down random probabilities as the answer to each question.\n",
    "\n"
   ]
  },
  {
   "cell_type": "markdown",
   "id": "ad7b031e",
   "metadata": {},
   "source": [
    "- What is the probability that at least one of your first 60 answers is correct?"
   ]
  },
  {
   "cell_type": "code",
   "execution_count": 18,
   "id": "a0b593e2",
   "metadata": {},
   "outputs": [
    {
     "data": {
      "text/plain": [
       "0.4528433576092388"
      ]
     },
     "execution_count": 18,
     "metadata": {},
     "output_type": "execute_result"
    }
   ],
   "source": [
    "stats.binom(60, 0.01).sf(0)"
   ]
  },
  {
   "cell_type": "code",
   "execution_count": 19,
   "id": "a880bf7f",
   "metadata": {},
   "outputs": [
    {
     "data": {
      "text/plain": [
       "0.9999999999999999"
      ]
     },
     "execution_count": 19,
     "metadata": {},
     "output_type": "execute_result"
    }
   ],
   "source": [
    "stats.binom(100, 0.01).cdf(60)\n",
    "#Wrong answer. This looks at 100 trials."
   ]
  },
  {
   "cell_type": "markdown",
   "id": "c162b97a",
   "metadata": {},
   "source": [
    "5. The codeup staff tends to get upset when the student break area is not cleaned up. Suppose that there's a 3% chance that any one student cleans the break area when they visit it, and, on any given day, about 90% of the 3 active cohorts of 22 students visit the break area. How likely is it that the break area gets cleaned up each day? How likely is it that it goes two days without getting cleaned up? All week?"
   ]
  },
  {
   "cell_type": "code",
   "execution_count": 20,
   "id": "cf01579c",
   "metadata": {},
   "outputs": [
    {
     "data": {
      "text/plain": [
       "0.8391933309784234"
      ]
     },
     "execution_count": 20,
     "metadata": {},
     "output_type": "execute_result"
    }
   ],
   "source": [
    "# probability of student cleaning = .03 66*.9 = 59.4 = 60 students\n",
    "stats.binom(60, 0.03).sf(0)"
   ]
  },
  {
   "cell_type": "code",
   "execution_count": 22,
   "id": "b14cefec",
   "metadata": {},
   "outputs": [
    {
     "data": {
      "text/plain": [
       "0.025858784801814878"
      ]
     },
     "execution_count": 22,
     "metadata": {},
     "output_type": "execute_result"
    }
   ],
   "source": [
    "stats.binom(60, 0.03).cdf(0)**2\n",
    "# likeliness of it not getting cleaned 2 days in a row"
   ]
  },
  {
   "cell_type": "code",
   "execution_count": 23,
   "id": "530a50de",
   "metadata": {},
   "outputs": [
    {
     "data": {
      "text/plain": [
       "0.00010752768104907583"
      ]
     },
     "execution_count": 23,
     "metadata": {},
     "output_type": "execute_result"
    }
   ],
   "source": [
    "stats.binom(60, 0.03).cdf(0)**5\n",
    "# likeliness of it not getting cleaned 5 days in a row"
   ]
  },
  {
   "cell_type": "code",
   "execution_count": null,
   "id": "229847ad",
   "metadata": {},
   "outputs": [],
   "source": []
  }
 ],
 "metadata": {
  "kernelspec": {
   "display_name": "Python 3",
   "language": "python",
   "name": "python3"
  },
  "language_info": {
   "codemirror_mode": {
    "name": "ipython",
    "version": 3
   },
   "file_extension": ".py",
   "mimetype": "text/x-python",
   "name": "python",
   "nbconvert_exporter": "python",
   "pygments_lexer": "ipython3",
   "version": "3.8.8"
  }
 },
 "nbformat": 4,
 "nbformat_minor": 5
}
